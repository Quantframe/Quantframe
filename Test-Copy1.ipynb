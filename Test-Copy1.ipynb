{
 "cells": [
  {
   "cell_type": "code",
   "execution_count": null,
   "metadata": {
    "scrolled": true
   },
   "outputs": [],
   "source": [
    "# -*- coding: utf-8 -*-\n",
    "\n",
    "#---------------------------------------------\n",
    "import sys \n",
    "import qpython.qconnection as qp\n",
    "from qpython.qconnection import MessageType\n",
    "import pandas as pd\n",
    "import numpy as np\n",
    "import datetime as dt\n",
    "import tushare as ts\n",
    "import json\n",
    "import kdb_csv as kc\n",
    "#------------------------------------------------\n",
    "with open('D:/Quant/Local/Strategy/Big_Brain/configs/config_paths.json', 'r') as f: config_paths = json.loads(f.read())\n",
    "with open('D:/Quant/Local/Strategy/Big_Brain/configs/config_download.json', 'r') as f: config_download = json.loads(f.read())\n",
    "\n",
    "# with open('configs/config_paths.json', 'r') as f: config_paths = json.loads(f.read())\n",
    "# with open('configs/config_download.json', 'r') as f: config_download = json.loads(f.read())\n",
    "    \n",
    "for i in config_paths: sys.path.append(config_paths[i])\n",
    "sys.path.append('D:/Quant/Local/Strategy/Big_Brain/Data_Management/Download')\n",
    "\n",
    "# #---------------------------------------------\n",
    "# import HDB \n",
    "import query_api"
   ]
  },
  {
   "cell_type": "code",
   "execution_count": null,
   "metadata": {},
   "outputs": [],
   "source": [
    "class HDB_Core():\n",
    "    def __init__(self,config_download):\n",
    "        self.config = config_download\n",
    "        self.save_use_csv_or_kdb = self.config['use_csv_or_kdb']\n",
    "    def reset_HDB_check(self):\n",
    "        self.kdb_initial_download_list = []\n",
    "        self.csv_initial_download_list = []\n",
    "        self.kdb_update_list = []\n",
    "        self.csv_update_list = []\n",
    "        self.whether_download_initial_KDB = 0\n",
    "        self.whether_download_initial_CSV = 0\n",
    "        self.whether_update_KDB = 0\n",
    "        self.whether_update_CSV = 0\n",
    "        self.today = pd.to_datetime(dt.date.today())\n",
    "\n",
    "    def get_last_date_of_file(self,file_type):\n",
    "        if file_type == 'KDB':\n",
    "            for i in self.config['files_stored']:\n",
    "                self.config['use_csv_or_kdb'] = 'kdb'\n",
    "                data = kc.load(self.config,i)\n",
    "                self.config['use_csv_or_kdb'] = self.save_use_csv_or_kdb\n",
    "                data['trade_date'] += 946684800000000000\n",
    "                data['trade_date'] = pd.to_datetime(data['trade_date'])\n",
    "                last_KDB_date_check = pd.to_datetime(data['date'].max().date())\n",
    "                if last_KDB_date_check<= self.today:\n",
    "                    if (self.config['runD']): print(dt.datetime.now(), '检查: KDB文件已经是最新: '+str(i)+'; HDB最新日期: '+str(last_KDB_date_check)+'; 当前日期: '+str(self.today))\n",
    "                else:\n",
    "                    if (self.config['runD']): print(dt.datetime.now(), '检查: KDB文件需要更新: '+str(i)+'; HDB最新日期: '+str(last_KDB_date_check)+'; 当前日期: '+str(self.today))\n",
    "                    self.whether_update_KDB = 1\n",
    "                    self.kdb_update_list.append(i)\n",
    "\n",
    "        if file_type == 'CSV':\n",
    "            for i in self.config['files_stored']:\n",
    "                self.config['use_csv_or_kdb'] = 'csv'\n",
    "                data = kc.load(self.config, i)\n",
    "                self.config['use_csv_or_kdb'] = self.save_use_csv_or_kdb\n",
    "                last_KDB_date_check = pd.to_datetime(data['date'].max().date())\n",
    "                if last_KDB_date_check<= self.today:\n",
    "                    if (self.config['runD']): print(dt.datetime.now(), '检查: CSV文件已经是最新: '+str(i)+'; HDB最新日期: '+str(last_KDB_date_check)+'; 当前日期: '+str(self.today))\n",
    "                else:\n",
    "                    if (self.config['runD']): print(dt.datetime.now(), '检查: CSV文件需要更新: '+str(i)+'; HDB最新日期: '+str(last_KDB_date_check)+'; 当前日期: '+str(self.today))\n",
    "                    self.whether_update_CSV = 1\n",
    "                    self.csv_update_list.append(i)\n",
    "\n",
    "    def check_HDB_update(self):\n",
    "        if self.config['save_as_kdb']:\n",
    "            if (self.config['runD']): print(dt.datetime.now(), '检查: 是否存在原始KDB文件')\n",
    "            dir = os.listdir(self.config['place_save']['kdb_root'] + self.config['place_save']['kdb'])\n",
    "            for i in self.config['files_stored']:\n",
    "                if i in dir: pass\n",
    "                else: self.kdb_initial_download_list.append(i)\n",
    "            if len(self.kdb_initial_download_list) > 0:\n",
    "                if (self.config['runD']): print(dt.datetime.now(), '检查: 缺失以下KDB文件: 将下载最新的以下KDB文件: '+str(self.kdb_initial_download_list))\n",
    "                self.whether_download_initial_KDB = 1\n",
    "            else:\n",
    "                if (self.config['runD']): print(dt.datetime.now(), '检查: 不缺少原始KDB文件,开始检查文件是否最新')\n",
    "\n",
    "        else:\n",
    "            if (self.config['runD']): print(dt.datetime.now(), '检查: 跳过检查原始KDB文件')\n",
    "\n",
    "        if self.config['save_as_csv']:\n",
    "            if (self.config['runD']): print(dt.datetime.now(), '检查: 是否存在原始CSV文件')\n",
    "            dir = os.listdir(self.config['place_save']['csv'])\n",
    "            for i in self.config['files_stored']:\n",
    "                if i in dir: pass\n",
    "                else: self.csv_initial_download_list.append(i)\n",
    "            if len(self.csv_initial_download_list) > 0:\n",
    "                if (self.config['runD']): print(dt.datetime.now(), '检查: 缺失以下CSV文件: 将下载最新的以下CSV文件: '+str(self.csv_initial_download_list))\n",
    "                self.whether_download_initial_CSV = 1\n",
    "            else:\n",
    "                if (self.config['runD']): print(dt.datetime.now(), '检查: 不缺少原始CSV文件')\n",
    "        else:\n",
    "            if (self.config['runD']): print(dt.datetime.now(), '检查: 跳过检查原始CSV文件,开始检查文件是否最新')"
   ]
  },
  {
   "cell_type": "code",
   "execution_count": null,
   "metadata": {},
   "outputs": [],
   "source": [
    "data_none = ts_api.get_hist_OHLCV('000001.SZ','D','E','None','20100701','20180801')"
   ]
  },
  {
   "cell_type": "code",
   "execution_count": null,
   "metadata": {},
   "outputs": [],
   "source": [
    "pro = ts.pro_api('dcecb4c7e06d394705fe904ab4b642f1fe0910241c79679c3f30d763')\n",
    "\n",
    "ts.pro_bar(pro_api=pro, ts_code='000001.SH', asset='E', start_date='20180101', end_date='20181011')"
   ]
  },
  {
   "cell_type": "code",
   "execution_count": null,
   "metadata": {
    "scrolled": true
   },
   "outputs": [],
   "source": [
    "data_none"
   ]
  },
  {
   "cell_type": "code",
   "execution_count": null,
   "metadata": {
    "scrolled": true
   },
   "outputs": [],
   "source": [
    "data_none"
   ]
  },
  {
   "cell_type": "code",
   "execution_count": null,
   "metadata": {},
   "outputs": [],
   "source": [
    "if False in list(data_none.index == data_none.index):\n",
    "    print(1)"
   ]
  },
  {
   "cell_type": "code",
   "execution_count": null,
   "metadata": {},
   "outputs": [],
   "source": [
    "config_paths[i]#.replace('/','\\')"
   ]
  },
  {
   "cell_type": "code",
   "execution_count": null,
   "metadata": {},
   "outputs": [],
   "source": [
    "a = 'sdasd/sdsd'\n",
    "a.replace('/','\\')"
   ]
  },
  {
   "cell_type": "code",
   "execution_count": null,
   "metadata": {},
   "outputs": [],
   "source": [
    "a = 'OHLCV_D_E'"
   ]
  },
  {
   "cell_type": "code",
   "execution_count": null,
   "metadata": {},
   "outputs": [],
   "source": [
    "min(10,2)"
   ]
  },
  {
   "cell_type": "code",
   "execution_count": null,
   "metadata": {},
   "outputs": [],
   "source": [
    "str((pd.to_datetime('20100701')+dt.timedelta(days=1)).date()).replace('-','')"
   ]
  },
  {
   "cell_type": "code",
   "execution_count": null,
   "metadata": {},
   "outputs": [],
   "source": [
    "ts_api = query_api.ts_api(config_download)"
   ]
  },
  {
   "cell_type": "code",
   "execution_count": null,
   "metadata": {
    "scrolled": true
   },
   "outputs": [],
   "source": [
    "data_none = ts_api.get_hist_OHLCV('000017.SZ','D','E','None','20100701','20180801')\n",
    "data_none"
   ]
  },
  {
   "cell_type": "code",
   "execution_count": null,
   "metadata": {},
   "outputs": [],
   "source": [
    "data_qfq = ts_api.get_hist_OHLCV('000017.SZ','D','E','qfq','20100701','20180801')\n",
    "data_none = ts_api.get_hist_OHLCV('000017.SZ','D','E','None','20100701','20180801')"
   ]
  },
  {
   "cell_type": "code",
   "execution_count": null,
   "metadata": {},
   "outputs": [],
   "source": [
    "data_hfq = ts_api.get_hist_OHLCV('000017.SZ','D','E','hfq','20100701','20180801')"
   ]
  },
  {
   "cell_type": "code",
   "execution_count": null,
   "metadata": {
    "scrolled": true
   },
   "outputs": [],
   "source": [
    "pro = ts.pro_api(config_download['ts_api'])\n",
    "pro.stock_basic(exchange_id='', list_status='L', fields='ts_code,symbol,list_date')"
   ]
  },
  {
   "cell_type": "code",
   "execution_count": null,
   "metadata": {
    "scrolled": true
   },
   "outputs": [],
   "source": [
    "data_qfq"
   ]
  },
  {
   "cell_type": "code",
   "execution_count": null,
   "metadata": {
    "scrolled": true
   },
   "outputs": [],
   "source": [
    "data_none"
   ]
  },
  {
   "cell_type": "code",
   "execution_count": null,
   "metadata": {
    "scrolled": true
   },
   "outputs": [],
   "source": [
    "data_none['close']*fc['adj_factor']"
   ]
  },
  {
   "cell_type": "code",
   "execution_count": null,
   "metadata": {
    "scrolled": true
   },
   "outputs": [],
   "source": [
    "fc['adj_factor']"
   ]
  },
  {
   "cell_type": "code",
   "execution_count": null,
   "metadata": {
    "scrolled": true
   },
   "outputs": [],
   "source": [
    "data_hfq"
   ]
  },
  {
   "cell_type": "code",
   "execution_count": null,
   "metadata": {},
   "outputs": [],
   "source": [
    "pro = ts.pro_api(config_download['ts_api'])"
   ]
  },
  {
   "cell_type": "code",
   "execution_count": null,
   "metadata": {
    "scrolled": true
   },
   "outputs": [],
   "source": [
    "fc=pro.adj_factor(ts_code='000017.SZ', start_date='20100701',end_date='20180801')"
   ]
  },
  {
   "cell_type": "code",
   "execution_count": null,
   "metadata": {},
   "outputs": [],
   "source": [
    "fc = fc.set_index(pd.to_datetime(fc['trade_date']))"
   ]
  },
  {
   "cell_type": "code",
   "execution_count": null,
   "metadata": {},
   "outputs": [],
   "source": [
    "path = 'D:\\Quant\\Data\\KDB\\q\\w32\\save'         # 替换为你的路径\n",
    "dir = os.listdir(path)                  # dir是目录下的全部文件\n",
    "fopen = open('train_img_set/bg.txt', 'w') # 替换为你的路径\n",
    "for d in dir:                        # d是每一个文件的文件名\n",
    "    string = 'non-ball/' + d + '\\n'    #拼接字符串并换行\n",
    "    fopen.write(string)             # 写入文件中\n",
    "fopen.close()"
   ]
  },
  {
   "cell_type": "code",
   "execution_count": null,
   "metadata": {},
   "outputs": [],
   "source": [
    "D:\\Quant\\Data\\KDB\\q\\w32\\save"
   ]
  },
  {
   "cell_type": "code",
   "execution_count": null,
   "metadata": {},
   "outputs": [],
   "source": [
    "import os\n",
    "path = 'D:\\Quant\\Data\\KDB\\q\\w32\\save'         # 替换为你的路径\n",
    "dir = os.listdir(path) "
   ]
  },
  {
   "cell_type": "code",
   "execution_count": null,
   "metadata": {},
   "outputs": [],
   "source": [
    "print('缺失以下KDB文件: 将下载以下文件: '+str(dir))"
   ]
  },
  {
   "cell_type": "code",
   "execution_count": null,
   "metadata": {},
   "outputs": [],
   "source": [
    "a = 'trade_E_D_hfq_000929_20100101_20180930'"
   ]
  },
  {
   "cell_type": "code",
   "execution_count": null,
   "metadata": {},
   "outputs": [],
   "source": [
    "if a in dir: print(a)"
   ]
  }
 ],
 "metadata": {
  "kernelspec": {
   "display_name": "Python 3",
   "language": "python",
   "name": "python3"
  },
  "language_info": {
   "codemirror_mode": {
    "name": "ipython",
    "version": 3
   },
   "file_extension": ".py",
   "mimetype": "text/x-python",
   "name": "python",
   "nbconvert_exporter": "python",
   "pygments_lexer": "ipython3",
   "version": "3.6.5"
  }
 },
 "nbformat": 4,
 "nbformat_minor": 2
}
