{
 "cells": [
  {
   "cell_type": "code",
   "execution_count": null,
   "metadata": {},
   "outputs": [],
   "source": [
    "\n",
    "#---------------------------------------------\n",
    "\n",
    "import qpython.qconnection as qp\n",
    "from qpython.qconnection import MessageType\n",
    "import pandas as pd\n",
    "import numpy as np\n",
    "import datetime as dt\n",
    "import tushare as ts\n",
    "import json\n",
    "import re\n",
    "import sys\n",
    "import os\n",
    "#-------------------------------------------- load configs & add paths\n",
    "with open('D:/Quant/Local/Strategy/Big_Brain/configs/config_paths.json', 'r') as f: config_paths = json.loads(f.read())\n",
    "with open('D:/Quant/Local/Strategy/Big_Brain/configs/config_download.json', 'r') as f: config_download = json.loads(f.read())\n",
    "sys.path.append(\"D:\\Quant\\Local\\Strategy\\Big_Brain\\Data_Management\\Download\")\n",
    "sys.path.append(\"D:\\Quant\\Local\\Strategy\\Big_Brain\")\n",
    "sys.path.append(\"D:\\Quant\\Local\\Strategy\\Big_Brain\\kdb_python\")\n",
    "#--------------------------------------------\n",
    "import kdb_csv as kc"
   ]
  },
  {
   "cell_type": "code",
   "execution_count": null,
   "metadata": {},
   "outputs": [],
   "source": [
    "class HDB_Core():\n",
    "    def __init__(self,config_download):\n",
    "        self.config = config_download\n",
    "        self.kdb_initial_download_list = []\n",
    "        self.csv_initial_download_list = []\n",
    "        self.kdb_update_list = []\n",
    "        self.csv_update_list = []\n",
    "        self.whether_download_initial_HDB = 0\n",
    "        self.whether_download_initial_CSV = 0\n",
    "        self.whether_update_HDB = 0\n",
    "        self.whether_update_CSV = 0\n",
    "    def get_last_date_of_file(self,file_type):\n",
    "        if file_type == 'KDB':\n",
    "            for i in self.config['files_stored']:\n",
    "                data = kc.read(self.config,i)\n",
    "                data['trade_date'] += 946684800000000000\n",
    "                data['trade_date'] = pd.to_datetime(data['trade_date'])\n",
    "                last_date = data['trade_date'][-1].\n",
    "\n",
    "\n",
    "#     def check_HDB_update(self):\n",
    "#         if self.config['save_as_kdb']:\n",
    "#             if (self.config['runD']): print(dt.datetime.now(), '检查: 是否存在原始KDB文件')\n",
    "#             dir = os.listdir(self.config['place_save']['kdb_root'] + self.config['place_save']['kdb'])\n",
    "#             for i in self.config['files_stored']:\n",
    "#                 if i in dir: pass\n",
    "#                 else: self.kdb_initial_download_list.append(i)\n",
    "#             if len(self.kdb_initial_download_list) > 0:\n",
    "#                 if (self.config['runD']): print(dt.datetime.now(), '检查: 缺失以下KDB文件: 将下载最新的以下KDB文件: '+str(self.kdb_initial_download_list))\n",
    "#                 self.whether_download_initial_HDB = 1\n",
    "#             else:\n",
    "#                 if (self.config['runD']): print(dt.datetime.now(), '检查: 不缺少原始KDB文件,开始检查文件是否最新')\n",
    "\n",
    "#         else:\n",
    "#             if (self.config['runD']): print(dt.datetime.now(), '检查: 跳过检查原始KDB文件')\n",
    "\n",
    "#         if self.config['save_as_csv']:\n",
    "#             if (self.config['runD']): print(dt.datetime.now(), '检查: 是否存在原始CSV文件')\n",
    "#             dir = os.listdir(self.config['place_save']['csv'])\n",
    "#             for i in self.config['files_stored']:\n",
    "#                 if i in dir: pass\n",
    "#                 else: self.csv_initial_download_list.append(i)\n",
    "#             if len(self.csv_initial_download_list) > 0:\n",
    "#                 if (self.config['runD']): print(dt.datetime.now(), '检查: 缺失以下CSV文件: 将下载最新的以下CSV文件: '+str(self.csv_initial_download_list))\n",
    "#                 self.whether_download_initial_CSV = 1\n",
    "#             else:\n",
    "#                 if (self.config['runD']): print(dt.datetime.now(), '检查: 不缺少原始CSV文件')\n",
    "#         else:\n",
    "#             if (self.config['runD']): print(dt.datetime.now(), '检查: 跳过检查原始CSV文件,开始检查文件是否最新')\n"
   ]
  },
  {
   "cell_type": "code",
   "execution_count": null,
   "metadata": {},
   "outputs": [],
   "source": [
    "data = kc.load(config_download,'OHLCV_D_E')"
   ]
  },
  {
   "cell_type": "code",
   "execution_count": null,
   "metadata": {
    "scrolled": true
   },
   "outputs": [],
   "source": [
    "pd.to_datetime(data['date'].max().date())"
   ]
  },
  {
   "cell_type": "code",
   "execution_count": null,
   "metadata": {},
   "outputs": [],
   "source": [
    "data['date'] += 946684800000000000\n",
    "data['date'] = pd.to_datetime(data['date'])\n"
   ]
  },
  {
   "cell_type": "code",
   "execution_count": null,
   "metadata": {},
   "outputs": [],
   "source": [
    "pd.to_datetime(dt.date.today())"
   ]
  },
  {
   "cell_type": "code",
   "execution_count": null,
   "metadata": {},
   "outputs": [],
   "source": [
    "pro = ts.pro_api('dcecb4c7e06d394705fe904ab4b642f1fe0910241c79679c3f30d763')\n"
   ]
  },
  {
   "cell_type": "code",
   "execution_count": null,
   "metadata": {},
   "outputs": [],
   "source": [
    "data = pro.stock_basic(exchange='', list_status='L', fields='ts_code,symbol,name,area,industry,list_date')\n",
    "list(data['ts_code'].values)"
   ]
  },
  {
   "cell_type": "code",
   "execution_count": null,
   "metadata": {
    "scrolled": true
   },
   "outputs": [],
   "source": [
    "data = pro.index_basic(market='CSI')['ts_code']"
   ]
  },
  {
   "cell_type": "code",
   "execution_count": null,
   "metadata": {},
   "outputs": [],
   "source": [
    "list(data)"
   ]
  },
  {
   "cell_type": "code",
   "execution_count": null,
   "metadata": {
    "scrolled": true
   },
   "outputs": [],
   "source": [
    "list(data)"
   ]
  },
  {
   "cell_type": "code",
   "execution_count": null,
   "metadata": {},
   "outputs": [],
   "source": [
    "list(data['ts_code'].values)"
   ]
  },
  {
   "cell_type": "code",
   "execution_count": null,
   "metadata": {},
   "outputs": [],
   "source": [
    "data = pro.query('stock_basic', exchange='', list_status='L', fields='ts_code')"
   ]
  },
  {
   "cell_type": "code",
   "execution_count": null,
   "metadata": {},
   "outputs": [],
   "source": []
  },
  {
   "cell_type": "code",
   "execution_count": null,
   "metadata": {},
   "outputs": [],
   "source": []
  },
  {
   "cell_type": "code",
   "execution_count": null,
   "metadata": {},
   "outputs": [],
   "source": []
  },
  {
   "cell_type": "code",
   "execution_count": null,
   "metadata": {
    "scrolled": true
   },
   "outputs": [],
   "source": [
    "pro = ts.pro_api('dcecb4c7e06d394705fe904ab4b642f1fe0910241c79679c3f30d763')\n",
    "\n",
    "pro.daily_basic(ts_code='002465.SZ', trade_date='20180726')\n",
    "# pro.query('daily_basic', ts_code='', trade_date='20180721')"
   ]
  },
  {
   "cell_type": "code",
   "execution_count": null,
   "metadata": {},
   "outputs": [],
   "source": [
    "api = ts.pro_api('dcecb4c7e06d394705fe904ab4b642f1fe0910241c79679c3f30d763')\n",
    "# api.query('daily_basic', ts_code='002465.SZ', trade_date='20180721')"
   ]
  },
  {
   "cell_type": "code",
   "execution_count": null,
   "metadata": {
    "scrolled": true
   },
   "outputs": [],
   "source": [
    "df = ts.pro_bar(pro_api='dcecb4c7e06d394705fe904ab4b642f1fe0910241c79679c3f30d763',ts_code='603990.SH', asset='E', start_date='20180101', end_date='20181011')"
   ]
  },
  {
   "cell_type": "code",
   "execution_count": null,
   "metadata": {
    "scrolled": true
   },
   "outputs": [],
   "source": [
    "df = ts.pro_bar(pro_api=api, ts_code='000001.SH', asset='I',freq='D',adj='qfq', start_date='20180101', end_date='20181011')\n",
    "df"
   ]
  },
  {
   "cell_type": "code",
   "execution_count": null,
   "metadata": {},
   "outputs": [],
   "source": [
    "ts.get_realtime_quotes(['600848','000980','000001'])"
   ]
  },
  {
   "cell_type": "code",
   "execution_count": null,
   "metadata": {
    "scrolled": true
   },
   "outputs": [],
   "source": [
    "df = ts.pro_bar(ts_code='603990.SH', asset='E', start_date='20180101', end_date='20181011')"
   ]
  }
 ],
 "metadata": {
  "kernelspec": {
   "display_name": "Python 3",
   "language": "python",
   "name": "python3"
  },
  "language_info": {
   "codemirror_mode": {
    "name": "ipython",
    "version": 3
   },
   "file_extension": ".py",
   "mimetype": "text/x-python",
   "name": "python",
   "nbconvert_exporter": "python",
   "pygments_lexer": "ipython3",
   "version": "3.6.5"
  }
 },
 "nbformat": 4,
 "nbformat_minor": 2
}
