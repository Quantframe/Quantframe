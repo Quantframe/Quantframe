{
 "cells": [
  {
   "cell_type": "code",
   "execution_count": 1,
   "metadata": {
    "scrolled": true
   },
   "outputs": [
    {
     "ename": "SyntaxError",
     "evalue": "unexpected EOF while parsing (HDB.py, line 102)",
     "output_type": "error",
     "traceback": [
      "Traceback \u001b[1;36m(most recent call last)\u001b[0m:\n",
      "  File \u001b[0;32m\"D:\\Anaconda\\lib\\site-packages\\IPython\\core\\interactiveshell.py\"\u001b[0m, line \u001b[0;32m2963\u001b[0m, in \u001b[0;35mrun_code\u001b[0m\n    exec(code_obj, self.user_global_ns, self.user_ns)\n",
      "\u001b[1;36m  File \u001b[1;32m\"<ipython-input-1-62e5419cd212>\"\u001b[1;36m, line \u001b[1;32m24\u001b[1;36m, in \u001b[1;35m<module>\u001b[1;36m\u001b[0m\n\u001b[1;33m    import HDB\u001b[0m\n",
      "\u001b[1;36m  File \u001b[1;32m\"D:/Quant/Local/Strategy/Big_Brain/Data_Management/Download\\HDB.py\"\u001b[1;36m, line \u001b[1;32m102\u001b[0m\n\u001b[1;33m    \u001b[0m\n\u001b[1;37m    ^\u001b[0m\n\u001b[1;31mSyntaxError\u001b[0m\u001b[1;31m:\u001b[0m unexpected EOF while parsing\n"
     ]
    }
   ],
   "source": [
    "# -*- coding: utf-8 -*-\n",
    "\n",
    "#---------------------------------------------\n",
    "import sys \n",
    "import qpython.qconnection as qp\n",
    "from qpython.qconnection import MessageType\n",
    "import pandas as pd\n",
    "import numpy as np\n",
    "import datetime as dt\n",
    "import tushare as ts\n",
    "import json\n",
    "import kdb_csv as kc\n",
    "#------------------------------------------------\n",
    "# with open('D:/Quant/Local/Strategy/Big_Brain/configs/config_paths.json', 'r') as f: config_paths = json.loads(f.read())\n",
    "# with open('D:/Quant/Local/Strategy/Big_Brain/configs/config_download.json', 'r') as f: config_download = json.loads(f.read())\n",
    "\n",
    "with open('configs/config_paths.json', 'r') as f: config_paths = json.loads(f.read())\n",
    "with open('configs/config_download.json', 'r') as f: config_download = json.loads(f.read())\n",
    "    \n",
    "# for i in config_paths: sys.path.append(config_paths[i])\n",
    "sys.path.append('D:/Quant/Local/Strategy/Big_Brain/Data_Management/Download')\n",
    "\n",
    "# #---------------------------------------------\n",
    "import HDB \n",
    "import query_api"
   ]
  },
  {
   "cell_type": "code",
   "execution_count": null,
   "metadata": {},
   "outputs": [],
   "source": [
    "config_paths[i]#.replace('/','\\')"
   ]
  },
  {
   "cell_type": "code",
   "execution_count": null,
   "metadata": {},
   "outputs": [],
   "source": [
    "a = 'sdasd/sdsd'\n",
    "a.replace('/','\\')"
   ]
  },
  {
   "cell_type": "code",
   "execution_count": null,
   "metadata": {},
   "outputs": [],
   "source": [
    "config_paths"
   ]
  },
  {
   "cell_type": "code",
   "execution_count": null,
   "metadata": {},
   "outputs": [],
   "source": [
    "ts_api = query_api.ts_api(config_download)"
   ]
  },
  {
   "cell_type": "code",
   "execution_count": null,
   "metadata": {
    "scrolled": true
   },
   "outputs": [],
   "source": [
    "data_none = ts_api.get_hist_OHLCV('000017.SZ','D','E','None','20100701','20180801')\n",
    "data_none"
   ]
  },
  {
   "cell_type": "code",
   "execution_count": null,
   "metadata": {},
   "outputs": [],
   "source": [
    "data_qfq = ts_api.get_hist_OHLCV('000017.SZ','D','E','qfq','20100701','20180801')\n",
    "data_none = ts_api.get_hist_OHLCV('000017.SZ','D','E','None','20100701','20180801')"
   ]
  },
  {
   "cell_type": "code",
   "execution_count": null,
   "metadata": {},
   "outputs": [],
   "source": [
    "data_hfq = ts_api.get_hist_OHLCV('000017.SZ','D','E','hfq','20100701','20180801')"
   ]
  },
  {
   "cell_type": "code",
   "execution_count": null,
   "metadata": {
    "scrolled": true
   },
   "outputs": [],
   "source": [
    "pro = ts.pro_api(config_download['ts_api'])\n",
    "pro.stock_basic(exchange_id='', list_status='L', fields='ts_code,symbol,list_date')"
   ]
  },
  {
   "cell_type": "code",
   "execution_count": null,
   "metadata": {
    "scrolled": true
   },
   "outputs": [],
   "source": [
    "data_qfq"
   ]
  },
  {
   "cell_type": "code",
   "execution_count": null,
   "metadata": {
    "scrolled": true
   },
   "outputs": [],
   "source": [
    "data_none"
   ]
  },
  {
   "cell_type": "code",
   "execution_count": null,
   "metadata": {
    "scrolled": true
   },
   "outputs": [],
   "source": [
    "data_none['close']*fc['adj_factor']"
   ]
  },
  {
   "cell_type": "code",
   "execution_count": null,
   "metadata": {
    "scrolled": true
   },
   "outputs": [],
   "source": [
    "fc['adj_factor']"
   ]
  },
  {
   "cell_type": "code",
   "execution_count": null,
   "metadata": {
    "scrolled": true
   },
   "outputs": [],
   "source": [
    "data_hfq"
   ]
  },
  {
   "cell_type": "code",
   "execution_count": null,
   "metadata": {},
   "outputs": [],
   "source": [
    "pro = ts.pro_api(config_download['ts_api'])"
   ]
  },
  {
   "cell_type": "code",
   "execution_count": null,
   "metadata": {
    "scrolled": true
   },
   "outputs": [],
   "source": [
    "fc=pro.adj_factor(ts_code='000017.SZ', start_date='20100701',end_date='20180801')"
   ]
  },
  {
   "cell_type": "code",
   "execution_count": null,
   "metadata": {},
   "outputs": [],
   "source": [
    "fc = fc.set_index(pd.to_datetime(fc['trade_date']))"
   ]
  },
  {
   "cell_type": "code",
   "execution_count": null,
   "metadata": {},
   "outputs": [],
   "source": [
    "path = 'D:\\Quant\\Data\\KDB\\q\\w32\\save'         # 替换为你的路径\n",
    "dir = os.listdir(path)                  # dir是目录下的全部文件\n",
    "fopen = open('train_img_set/bg.txt', 'w') # 替换为你的路径\n",
    "for d in dir:                        # d是每一个文件的文件名\n",
    "    string = 'non-ball/' + d + '\\n'    #拼接字符串并换行\n",
    "    fopen.write(string)             # 写入文件中\n",
    "fopen.close()"
   ]
  },
  {
   "cell_type": "code",
   "execution_count": null,
   "metadata": {},
   "outputs": [],
   "source": [
    "D:\\Quant\\Data\\KDB\\q\\w32\\save"
   ]
  },
  {
   "cell_type": "code",
   "execution_count": null,
   "metadata": {},
   "outputs": [],
   "source": [
    "import os\n",
    "path = 'D:\\Quant\\Data\\KDB\\q\\w32\\save'         # 替换为你的路径\n",
    "dir = os.listdir(path) "
   ]
  },
  {
   "cell_type": "code",
   "execution_count": null,
   "metadata": {},
   "outputs": [],
   "source": [
    "print('缺失以下KDB文件: 将下载以下文件: '+str(dir))"
   ]
  },
  {
   "cell_type": "code",
   "execution_count": null,
   "metadata": {},
   "outputs": [],
   "source": [
    "a = 'trade_E_D_hfq_000929_20100101_20180930'"
   ]
  },
  {
   "cell_type": "code",
   "execution_count": null,
   "metadata": {},
   "outputs": [],
   "source": [
    "if a in dir: print(a)"
   ]
  }
 ],
 "metadata": {
  "kernelspec": {
   "display_name": "Python 3",
   "language": "python",
   "name": "python3"
  },
  "language_info": {
   "codemirror_mode": {
    "name": "ipython",
    "version": 3
   },
   "file_extension": ".py",
   "mimetype": "text/x-python",
   "name": "python",
   "nbconvert_exporter": "python",
   "pygments_lexer": "ipython3",
   "version": "3.6.5"
  }
 },
 "nbformat": 4,
 "nbformat_minor": 2
}
