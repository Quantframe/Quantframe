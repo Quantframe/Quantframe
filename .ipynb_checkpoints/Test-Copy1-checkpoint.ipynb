{
 "cells": [
  {
   "cell_type": "code",
   "execution_count": 2,
   "metadata": {},
   "outputs": [
    {
     "ename": "NameError",
     "evalue": "name 'sys' is not defined",
     "output_type": "error",
     "traceback": [
      "\u001b[1;31m---------------------------------------------------------------------------\u001b[0m",
      "\u001b[1;31mNameError\u001b[0m                                 Traceback (most recent call last)",
      "\u001b[1;32m<ipython-input-2-145345473296>\u001b[0m in \u001b[0;36m<module>\u001b[1;34m()\u001b[0m\n\u001b[0;32m      4\u001b[0m \u001b[1;32mimport\u001b[0m \u001b[0mtkinter\u001b[0m \u001b[1;32mas\u001b[0m \u001b[0mTK\u001b[0m\u001b[1;33m\u001b[0m\u001b[0m\n\u001b[0;32m      5\u001b[0m \u001b[1;31m##----- Load local packages\u001b[0m\u001b[1;33m\u001b[0m\u001b[1;33m\u001b[0m\u001b[0m\n\u001b[1;32m----> 6\u001b[1;33m \u001b[0msys\u001b[0m\u001b[1;33m.\u001b[0m\u001b[0mpath\u001b[0m\u001b[1;33m.\u001b[0m\u001b[0mappend\u001b[0m\u001b[1;33m(\u001b[0m\u001b[1;34m\"D:\\Quant\\Local\\Strategy\\Big_Brain\\Data_Management\\Download\"\u001b[0m\u001b[1;33m)\u001b[0m\u001b[1;33m\u001b[0m\u001b[0m\n\u001b[0m\u001b[0;32m      7\u001b[0m \u001b[0msys\u001b[0m\u001b[1;33m.\u001b[0m\u001b[0mpath\u001b[0m\u001b[1;33m.\u001b[0m\u001b[0mappend\u001b[0m\u001b[1;33m(\u001b[0m\u001b[1;34m\"D:\\Quant\\Local\\Strategy\\Big_Brain\"\u001b[0m\u001b[1;33m)\u001b[0m\u001b[1;33m\u001b[0m\u001b[0m\n\u001b[0;32m      8\u001b[0m \u001b[0msys\u001b[0m\u001b[1;33m.\u001b[0m\u001b[0mpath\u001b[0m\u001b[1;33m.\u001b[0m\u001b[0mappend\u001b[0m\u001b[1;33m(\u001b[0m\u001b[1;34m\"D:\\Quant\\Local\\Strategy\\Big_Brain\\kdb_python\"\u001b[0m\u001b[1;33m)\u001b[0m\u001b[1;33m\u001b[0m\u001b[0m\n",
      "\u001b[1;31mNameError\u001b[0m: name 'sys' is not defined"
     ]
    }
   ],
   "source": [
    "##----- Load public packages\n",
    "import pandas as pd\n",
    "import numpy as np\n",
    "import tkinter as TK\n",
    "##----- Load local packages\n",
    "sys.path.append(\"D:\\Quant\\Local\\Strategy\\Big_Brain\\Data_Management\\Download\")\n",
    "sys.path.append(\"D:\\Quant\\Local\\Strategy\\Big_Brain\")\n",
    "sys.path.append(\"D:\\Quant\\Local\\Strategy\\Big_Brain\\kdb_python\")\n",
    "\n",
    "##-----加载JSON控制文件\n",
    "with open('D:/Quant/Local/Strategy/Big_Brain/configs/config_GUI.json', 'r') as f: config_GUI = json.loads(f.read())\n",
    "\n",
    "## GUI页面设计\n",
    "\n",
    "class GUI():\n",
    "    def __init__(self,config_GUI):\n",
    "        '''\n",
    "        初始化框架和功能类别\n",
    "        '''\n",
    "        self.root=TK.Tk() #创建主窗体\n",
    "        self.root.wm_title(config_GUI['main_frame']['frame_name']) #定义平台名称\n",
    "        \n"
   ]
  },
  {
   "cell_type": "code",
   "execution_count": null,
   "metadata": {},
   "outputs": [],
   "source": [
    "lis = ['000001.SZ','000002.SZ']"
   ]
  },
  {
   "cell_type": "code",
   "execution_count": null,
   "metadata": {},
   "outputs": [],
   "source": [
    "str(lis)"
   ]
  },
  {
   "cell_type": "code",
   "execution_count": null,
   "metadata": {},
   "outputs": [],
   "source": [
    "result_lis = str(lis).replace('[','(').replace(']',')').replace(',',';').replace('',';')"
   ]
  },
  {
   "cell_type": "code",
   "execution_count": 110,
   "metadata": {},
   "outputs": [
    {
     "data": {
      "text/plain": [
       "0"
      ]
     },
     "execution_count": 110,
     "metadata": {},
     "output_type": "execute_result"
    }
   ],
   "source": [
    "code=[]\n",
    "code = ''.join(list(map(lambda x:'`'+x,code)))\n",
    "len(code)"
   ]
  },
  {
   "cell_type": "code",
   "execution_count": 29,
   "metadata": {},
   "outputs": [],
   "source": [
    "import qpython.qconnection as qp\n",
    "from qpython.qconnection import MessageType\n",
    "import json\n",
    "import pandas as pd\n",
    "import numpy as np\n",
    "import datetime as dt\n",
    "with open('D:/Quant/Local/Strategy/Big_Brain/configs/config_data_query.json', 'r') as f: config_data_query = json.loads(f.read())\n",
    "\n",
    "def get_OHLCV_by_kdb(config_data_query, code = [], frequency = '', asset = '', adj = '', start_date = '', end_date = '', trade_date = '',items=['ts_code','open','high','low','close','vol','adj_factor'],is_panel=0):\n",
    "    file_name = 'OHLCV_'+frequency+'_'+asset\n",
    "    if is_panel: aryx=3\n",
    "    else: aryx=2\n",
    "    code = ''.join(list(map(lambda x:'`'+x,code)))\n",
    "    if start_date!='':start_date = pd.to_datetime(start_date).strftime('%Y.%m.%d')\n",
    "    if end_date!='':end_date = pd.to_datetime(end_date).strftime('%Y.%m.%d')\n",
    "\n",
    "    q=qp.QConnection(config_data_query['kdb_load']['host'],\n",
    "                     config_data_query['kdb_load']['port'],\n",
    "                     config_data_query['kdb_load']['username'],\n",
    "                     config_data_query['kdb_load']['password'])\n",
    "    q.open()\n",
    "    \n",
    "    if len(code) != 0:\n",
    "        if (start_date=='')&(end_date==''):\n",
    "            query='0!data:select from (get`:'+config_data_query['place_load']['kdb']+file_name+') where ts_code in '+code\n",
    "        elif (start_date!='')&(end_date==''):\n",
    "            query='0!data:select from (get`:'+config_data_query['place_load']['kdb']+file_name+') where ts_code in '+code+', trade_date >= '+start_date\n",
    "        elif (start_date=='')&(end_date!=''):\n",
    "            query='0!data:select from (get`:'+config_data_query['place_load']['kdb']+file_name+') where ts_code in '+code+', trade_date <= '+end_date\n",
    "        elif (start_date!='')&(end_date!=''):\n",
    "            query='0!data:select from (get`:'+config_data_query['place_load']['kdb']+file_name+') where ts_code in '+code+', trade_date >= '+start_date+', trade_date <= '+end_date\n",
    "    else:\n",
    "        if (start_date=='')&(end_date==''):\n",
    "            query='0!data:select from (get`:Local/OHLCV_D_E)'\n",
    "        elif (start_date!='')&(end_date==''):\n",
    "            query='0!data:select from (get`:'+config_data_query['place_load']['kdb']+file_name+') where trade_date >= '+start_date\n",
    "        elif (start_date=='')&(end_date!=''):\n",
    "            query='0!data:select from (get`:'+config_data_query['place_load']['kdb']+file_name+') where trade_date <= '+end_date\n",
    "        elif (start_date!='')&(end_date!=''):\n",
    "            query='0!data:select from (get`:'+config_data_query['place_load']['kdb']+file_name+') where trade_date >= '+start_date+', trade_date <= '+end_date\n",
    "        \n",
    "    data = pd.DataFrame(q.sync(query))\n",
    "    \n",
    "\n",
    "\n",
    "    q.close()\n",
    "    data['trade_date'] +=946684800000000000\n",
    "    data['trade_date'] = pd.to_datetime(data['trade_date'])\n",
    "    data = data.set_index('trade_date')\n",
    "    data = data.dropna()\n",
    "    if (config_data_query['runD']): print('提取数据: 数据维度:'+str(aryx) +'; 标的数：'+str(len(list(set(data['ts_code']))))+'; 起始时间：'+str(data.index.min())+'; 结束时间：'+str(data.index.max()))\n",
    "\n",
    "    for i in data.columns.tolist():\n",
    "        if (type(data[i][0]) == bytes):\n",
    "            data[i] = list(map(lambda x:x.decode(encoding='UTF-8'),data[i]))\n",
    "    data = data[items]\n",
    "    return data"
   ]
  },
  {
   "cell_type": "code",
   "execution_count": null,
   "metadata": {},
   "outputs": [],
   "source": [
    "wp = pd.Panel(np.random.randn(2, 5, 4), items=['Item1', 'Item2'], major_axis=pd.date_range('1/1/2000', periods=5), minor_axis=['A', 'B', 'C', 'D'])\n"
   ]
  },
  {
   "cell_type": "code",
   "execution_count": 28,
   "metadata": {
    "scrolled": true
   },
   "outputs": [
    {
     "ename": "SyntaxError",
     "evalue": "invalid syntax (<ipython-input-28-54498f3309c5>, line 2)",
     "output_type": "error",
     "traceback": [
      "\u001b[1;36m  File \u001b[1;32m\"<ipython-input-28-54498f3309c5>\"\u001b[1;36m, line \u001b[1;32m2\u001b[0m\n\u001b[1;33m    (locals()['data_sub'+str(var)] = data[data['ts_code']==var].drop('ts_code',1).T) for var in np.unique(data['ts_code'])\u001b[0m\n\u001b[1;37m                                   ^\u001b[0m\n\u001b[1;31mSyntaxError\u001b[0m\u001b[1;31m:\u001b[0m invalid syntax\n"
     ]
    }
   ],
   "source": [
    "(locals()['data_sub'+str(var)] = data[data['ts_code']==var].drop('ts_code',1).T) for var in np.unique(data['ts_code'])"
   ]
  },
  {
   "cell_type": "code",
   "execution_count": 53,
   "metadata": {},
   "outputs": [
    {
     "name": "stdout",
     "output_type": "stream",
     "text": [
      "提取数据: 数据维度:2; 标的数：4; 起始时间：2018-11-01 00:00:00; 结束时间：2018-11-15 00:00:00\n"
     ]
    }
   ],
   "source": [
    "data = get_OHLCV_by_kdb(config_data_query, code = ['000001.SZ','000002.SZ','000004.SZ','000005.SZ'], frequency = 'D', asset = 'E', adj = '', start_date = '20181101', end_date = '', trade_date = '',items=['ts_code','open','high','low','close','vol','adj_factor'],is_panel=0)"
   ]
  },
  {
   "cell_type": "code",
   "execution_count": 55,
   "metadata": {
    "scrolled": true
   },
   "outputs": [],
   "source": [
    "data.to_csv('test.csv')"
   ]
  },
  {
   "cell_type": "code",
   "execution_count": 52,
   "metadata": {},
   "outputs": [
    {
     "data": {
      "text/html": [
       "<div>\n",
       "<style scoped>\n",
       "    .dataframe tbody tr th:only-of-type {\n",
       "        vertical-align: middle;\n",
       "    }\n",
       "\n",
       "    .dataframe tbody tr th {\n",
       "        vertical-align: top;\n",
       "    }\n",
       "\n",
       "    .dataframe thead th {\n",
       "        text-align: right;\n",
       "    }\n",
       "</style>\n",
       "<table border=\"1\" class=\"dataframe\">\n",
       "  <thead>\n",
       "    <tr style=\"text-align: right;\">\n",
       "      <th>trade_date</th>\n",
       "      <th>2016-01-04 00:00:00</th>\n",
       "      <th>2016-01-05 00:00:00</th>\n",
       "      <th>2016-01-06 00:00:00</th>\n",
       "      <th>2016-01-07 00:00:00</th>\n",
       "      <th>2016-01-08 00:00:00</th>\n",
       "      <th>2016-01-11 00:00:00</th>\n",
       "      <th>2016-01-12 00:00:00</th>\n",
       "      <th>2016-01-13 00:00:00</th>\n",
       "      <th>2016-01-14 00:00:00</th>\n",
       "      <th>2016-01-15 00:00:00</th>\n",
       "      <th>...</th>\n",
       "      <th>2018-11-15 00:00:00</th>\n",
       "      <th>2018-11-15 00:00:00</th>\n",
       "      <th>2018-11-15 00:00:00</th>\n",
       "      <th>2018-11-15 00:00:00</th>\n",
       "      <th>2018-11-15 00:00:00</th>\n",
       "      <th>2018-11-15 00:00:00</th>\n",
       "      <th>2018-11-15 00:00:00</th>\n",
       "      <th>2018-11-15 00:00:00</th>\n",
       "      <th>2018-11-15 00:00:00</th>\n",
       "      <th>2018-11-15 00:00:00</th>\n",
       "    </tr>\n",
       "  </thead>\n",
       "  <tbody>\n",
       "    <tr>\n",
       "      <th>ts_code</th>\n",
       "      <td>000001.SZ</td>\n",
       "      <td>000001.SZ</td>\n",
       "      <td>000001.SZ</td>\n",
       "      <td>000001.SZ</td>\n",
       "      <td>000001.SZ</td>\n",
       "      <td>000001.SZ</td>\n",
       "      <td>000001.SZ</td>\n",
       "      <td>000001.SZ</td>\n",
       "      <td>000001.SZ</td>\n",
       "      <td>000001.SZ</td>\n",
       "      <td>...</td>\n",
       "      <td>603987.SH</td>\n",
       "      <td>603988.SH</td>\n",
       "      <td>603989.SH</td>\n",
       "      <td>603990.SH</td>\n",
       "      <td>603991.SH</td>\n",
       "      <td>603993.SH</td>\n",
       "      <td>603996.SH</td>\n",
       "      <td>603997.SH</td>\n",
       "      <td>603998.SH</td>\n",
       "      <td>603999.SH</td>\n",
       "    </tr>\n",
       "    <tr>\n",
       "      <th>open</th>\n",
       "      <td>9.55</td>\n",
       "      <td>8.97</td>\n",
       "      <td>9.09</td>\n",
       "      <td>9.08</td>\n",
       "      <td>8.92</td>\n",
       "      <td>8.76</td>\n",
       "      <td>8.62</td>\n",
       "      <td>8.67</td>\n",
       "      <td>8.43</td>\n",
       "      <td>8.49</td>\n",
       "      <td>...</td>\n",
       "      <td>6.36</td>\n",
       "      <td>10.73</td>\n",
       "      <td>22.76</td>\n",
       "      <td>32.07</td>\n",
       "      <td>19.66</td>\n",
       "      <td>4.11</td>\n",
       "      <td>9</td>\n",
       "      <td>8.18</td>\n",
       "      <td>5.61</td>\n",
       "      <td>5.13</td>\n",
       "    </tr>\n",
       "    <tr>\n",
       "      <th>high</th>\n",
       "      <td>9.58</td>\n",
       "      <td>9.21</td>\n",
       "      <td>9.2</td>\n",
       "      <td>9.08</td>\n",
       "      <td>8.99</td>\n",
       "      <td>8.82</td>\n",
       "      <td>8.68</td>\n",
       "      <td>8.71</td>\n",
       "      <td>8.6</td>\n",
       "      <td>8.6</td>\n",
       "      <td>...</td>\n",
       "      <td>6.45</td>\n",
       "      <td>10.89</td>\n",
       "      <td>23.07</td>\n",
       "      <td>33.42</td>\n",
       "      <td>21.33</td>\n",
       "      <td>4.18</td>\n",
       "      <td>9.1</td>\n",
       "      <td>8.3</td>\n",
       "      <td>5.67</td>\n",
       "      <td>5.6</td>\n",
       "    </tr>\n",
       "    <tr>\n",
       "      <th>low</th>\n",
       "      <td>8.94</td>\n",
       "      <td>8.88</td>\n",
       "      <td>9.07</td>\n",
       "      <td>8.68</td>\n",
       "      <td>8.68</td>\n",
       "      <td>8.5</td>\n",
       "      <td>8.47</td>\n",
       "      <td>8.52</td>\n",
       "      <td>8.34</td>\n",
       "      <td>8.29</td>\n",
       "      <td>...</td>\n",
       "      <td>6.28</td>\n",
       "      <td>10.6</td>\n",
       "      <td>22.51</td>\n",
       "      <td>31.99</td>\n",
       "      <td>19.51</td>\n",
       "      <td>4.1</td>\n",
       "      <td>8.87</td>\n",
       "      <td>8.18</td>\n",
       "      <td>5.53</td>\n",
       "      <td>5.11</td>\n",
       "    </tr>\n",
       "    <tr>\n",
       "      <th>close</th>\n",
       "      <td>9.02</td>\n",
       "      <td>9.07</td>\n",
       "      <td>9.18</td>\n",
       "      <td>8.71</td>\n",
       "      <td>8.85</td>\n",
       "      <td>8.57</td>\n",
       "      <td>8.6</td>\n",
       "      <td>8.53</td>\n",
       "      <td>8.57</td>\n",
       "      <td>8.33</td>\n",
       "      <td>...</td>\n",
       "      <td>6.44</td>\n",
       "      <td>10.83</td>\n",
       "      <td>22.89</td>\n",
       "      <td>33.39</td>\n",
       "      <td>20.81</td>\n",
       "      <td>4.18</td>\n",
       "      <td>9.08</td>\n",
       "      <td>8.29</td>\n",
       "      <td>5.65</td>\n",
       "      <td>5.43</td>\n",
       "    </tr>\n",
       "    <tr>\n",
       "      <th>vol</th>\n",
       "      <td>563498</td>\n",
       "      <td>663270</td>\n",
       "      <td>515706</td>\n",
       "      <td>174761</td>\n",
       "      <td>747528</td>\n",
       "      <td>732014</td>\n",
       "      <td>561642</td>\n",
       "      <td>391709</td>\n",
       "      <td>666315</td>\n",
       "      <td>448202</td>\n",
       "      <td>...</td>\n",
       "      <td>28930.9</td>\n",
       "      <td>69717.4</td>\n",
       "      <td>8481.3</td>\n",
       "      <td>7947</td>\n",
       "      <td>17253.9</td>\n",
       "      <td>1.1215e+06</td>\n",
       "      <td>86006.4</td>\n",
       "      <td>26862.5</td>\n",
       "      <td>54325.2</td>\n",
       "      <td>116020</td>\n",
       "    </tr>\n",
       "    <tr>\n",
       "      <th>adj_factor</th>\n",
       "      <td>85.994</td>\n",
       "      <td>85.994</td>\n",
       "      <td>85.994</td>\n",
       "      <td>85.994</td>\n",
       "      <td>85.994</td>\n",
       "      <td>85.994</td>\n",
       "      <td>85.994</td>\n",
       "      <td>85.994</td>\n",
       "      <td>85.994</td>\n",
       "      <td>85.994</td>\n",
       "      <td>...</td>\n",
       "      <td>2.142</td>\n",
       "      <td>3.003</td>\n",
       "      <td>2.149</td>\n",
       "      <td>1.01</td>\n",
       "      <td>1.004</td>\n",
       "      <td>3.269</td>\n",
       "      <td>1.536</td>\n",
       "      <td>1.569</td>\n",
       "      <td>3.934</td>\n",
       "      <td>2.436</td>\n",
       "    </tr>\n",
       "  </tbody>\n",
       "</table>\n",
       "<p>7 rows × 2090515 columns</p>\n",
       "</div>"
      ],
      "text/plain": [
       "trade_date 2016-01-04 2016-01-05 2016-01-06 2016-01-07 2016-01-08 2016-01-11  \\\n",
       "ts_code     000001.SZ  000001.SZ  000001.SZ  000001.SZ  000001.SZ  000001.SZ   \n",
       "open             9.55       8.97       9.09       9.08       8.92       8.76   \n",
       "high             9.58       9.21        9.2       9.08       8.99       8.82   \n",
       "low              8.94       8.88       9.07       8.68       8.68        8.5   \n",
       "close            9.02       9.07       9.18       8.71       8.85       8.57   \n",
       "vol            563498     663270     515706     174761     747528     732014   \n",
       "adj_factor     85.994     85.994     85.994     85.994     85.994     85.994   \n",
       "\n",
       "trade_date 2016-01-12 2016-01-13 2016-01-14 2016-01-15    ...     2018-11-15  \\\n",
       "ts_code     000001.SZ  000001.SZ  000001.SZ  000001.SZ    ...      603987.SH   \n",
       "open             8.62       8.67       8.43       8.49    ...           6.36   \n",
       "high             8.68       8.71        8.6        8.6    ...           6.45   \n",
       "low              8.47       8.52       8.34       8.29    ...           6.28   \n",
       "close             8.6       8.53       8.57       8.33    ...           6.44   \n",
       "vol            561642     391709     666315     448202    ...        28930.9   \n",
       "adj_factor     85.994     85.994     85.994     85.994    ...          2.142   \n",
       "\n",
       "trade_date 2018-11-15 2018-11-15 2018-11-15 2018-11-15  2018-11-15 2018-11-15  \\\n",
       "ts_code     603988.SH  603989.SH  603990.SH  603991.SH   603993.SH  603996.SH   \n",
       "open            10.73      22.76      32.07      19.66        4.11          9   \n",
       "high            10.89      23.07      33.42      21.33        4.18        9.1   \n",
       "low              10.6      22.51      31.99      19.51         4.1       8.87   \n",
       "close           10.83      22.89      33.39      20.81        4.18       9.08   \n",
       "vol           69717.4     8481.3       7947    17253.9  1.1215e+06    86006.4   \n",
       "adj_factor      3.003      2.149       1.01      1.004       3.269      1.536   \n",
       "\n",
       "trade_date 2018-11-15 2018-11-15 2018-11-15  \n",
       "ts_code     603997.SH  603998.SH  603999.SH  \n",
       "open             8.18       5.61       5.13  \n",
       "high              8.3       5.67        5.6  \n",
       "low              8.18       5.53       5.11  \n",
       "close            8.29       5.65       5.43  \n",
       "vol           26862.5    54325.2     116020  \n",
       "adj_factor      1.569      3.934      2.436  \n",
       "\n",
       "[7 rows x 2090515 columns]"
      ]
     },
     "execution_count": 52,
     "metadata": {},
     "output_type": "execute_result"
    }
   ],
   "source": [
    "data.T"
   ]
  },
  {
   "cell_type": "code",
   "execution_count": 49,
   "metadata": {},
   "outputs": [
    {
     "data": {
      "text/html": [
       "<div>\n",
       "<style scoped>\n",
       "    .dataframe tbody tr th:only-of-type {\n",
       "        vertical-align: middle;\n",
       "    }\n",
       "\n",
       "    .dataframe tbody tr th {\n",
       "        vertical-align: top;\n",
       "    }\n",
       "\n",
       "    .dataframe thead th {\n",
       "        text-align: right;\n",
       "    }\n",
       "</style>\n",
       "<table border=\"1\" class=\"dataframe\">\n",
       "  <thead>\n",
       "    <tr style=\"text-align: right;\">\n",
       "      <th>trade_date</th>\n",
       "      <th>2016-01-04 00:00:00</th>\n",
       "      <th>2016-01-05 00:00:00</th>\n",
       "      <th>2016-01-06 00:00:00</th>\n",
       "      <th>2016-01-07 00:00:00</th>\n",
       "      <th>2016-01-08 00:00:00</th>\n",
       "      <th>2016-01-11 00:00:00</th>\n",
       "      <th>2016-01-12 00:00:00</th>\n",
       "      <th>2016-01-13 00:00:00</th>\n",
       "      <th>2016-01-14 00:00:00</th>\n",
       "      <th>2016-01-15 00:00:00</th>\n",
       "      <th>...</th>\n",
       "      <th>2018-11-05 00:00:00</th>\n",
       "      <th>2018-11-06 00:00:00</th>\n",
       "      <th>2018-11-07 00:00:00</th>\n",
       "      <th>2018-11-08 00:00:00</th>\n",
       "      <th>2018-11-09 00:00:00</th>\n",
       "      <th>2018-11-12 00:00:00</th>\n",
       "      <th>2018-11-13 00:00:00</th>\n",
       "      <th>2018-11-14 00:00:00</th>\n",
       "      <th>2018-11-15 00:00:00</th>\n",
       "      <th>code</th>\n",
       "    </tr>\n",
       "  </thead>\n",
       "  <tbody>\n",
       "    <tr>\n",
       "      <th>open</th>\n",
       "      <td>9.550</td>\n",
       "      <td>8.970</td>\n",
       "      <td>9.090</td>\n",
       "      <td>9.080</td>\n",
       "      <td>8.920</td>\n",
       "      <td>8.760</td>\n",
       "      <td>8.620</td>\n",
       "      <td>8.670</td>\n",
       "      <td>8.430</td>\n",
       "      <td>8.490</td>\n",
       "      <td>...</td>\n",
       "      <td>10.950</td>\n",
       "      <td>10.870</td>\n",
       "      <td>10.830</td>\n",
       "      <td>10.880</td>\n",
       "      <td>10.710</td>\n",
       "      <td>10.460</td>\n",
       "      <td>10.410</td>\n",
       "      <td>10.530</td>\n",
       "      <td>10.440</td>\n",
       "      <td>000001.SZ</td>\n",
       "    </tr>\n",
       "    <tr>\n",
       "      <th>high</th>\n",
       "      <td>9.580</td>\n",
       "      <td>9.210</td>\n",
       "      <td>9.200</td>\n",
       "      <td>9.080</td>\n",
       "      <td>8.990</td>\n",
       "      <td>8.820</td>\n",
       "      <td>8.680</td>\n",
       "      <td>8.710</td>\n",
       "      <td>8.600</td>\n",
       "      <td>8.600</td>\n",
       "      <td>...</td>\n",
       "      <td>11.040</td>\n",
       "      <td>10.930</td>\n",
       "      <td>10.950</td>\n",
       "      <td>10.970</td>\n",
       "      <td>10.730</td>\n",
       "      <td>10.580</td>\n",
       "      <td>10.650</td>\n",
       "      <td>10.550</td>\n",
       "      <td>10.640</td>\n",
       "      <td>000001.SZ</td>\n",
       "    </tr>\n",
       "    <tr>\n",
       "      <th>low</th>\n",
       "      <td>8.940</td>\n",
       "      <td>8.880</td>\n",
       "      <td>9.070</td>\n",
       "      <td>8.680</td>\n",
       "      <td>8.680</td>\n",
       "      <td>8.500</td>\n",
       "      <td>8.470</td>\n",
       "      <td>8.520</td>\n",
       "      <td>8.340</td>\n",
       "      <td>8.290</td>\n",
       "      <td>...</td>\n",
       "      <td>10.820</td>\n",
       "      <td>10.730</td>\n",
       "      <td>10.750</td>\n",
       "      <td>10.820</td>\n",
       "      <td>10.400</td>\n",
       "      <td>10.380</td>\n",
       "      <td>10.380</td>\n",
       "      <td>10.420</td>\n",
       "      <td>10.420</td>\n",
       "      <td>000001.SZ</td>\n",
       "    </tr>\n",
       "    <tr>\n",
       "      <th>close</th>\n",
       "      <td>9.020</td>\n",
       "      <td>9.070</td>\n",
       "      <td>9.180</td>\n",
       "      <td>8.710</td>\n",
       "      <td>8.850</td>\n",
       "      <td>8.570</td>\n",
       "      <td>8.600</td>\n",
       "      <td>8.530</td>\n",
       "      <td>8.570</td>\n",
       "      <td>8.330</td>\n",
       "      <td>...</td>\n",
       "      <td>10.920</td>\n",
       "      <td>10.840</td>\n",
       "      <td>10.810</td>\n",
       "      <td>10.890</td>\n",
       "      <td>10.550</td>\n",
       "      <td>10.560</td>\n",
       "      <td>10.540</td>\n",
       "      <td>10.440</td>\n",
       "      <td>10.620</td>\n",
       "      <td>000001.SZ</td>\n",
       "    </tr>\n",
       "    <tr>\n",
       "      <th>vol</th>\n",
       "      <td>563497.870</td>\n",
       "      <td>663269.950</td>\n",
       "      <td>515706.440</td>\n",
       "      <td>174761.100</td>\n",
       "      <td>747527.580</td>\n",
       "      <td>732013.990</td>\n",
       "      <td>561642.300</td>\n",
       "      <td>391709.480</td>\n",
       "      <td>666314.540</td>\n",
       "      <td>448202.140</td>\n",
       "      <td>...</td>\n",
       "      <td>1291924.170</td>\n",
       "      <td>735725.740</td>\n",
       "      <td>785597.410</td>\n",
       "      <td>793976.000</td>\n",
       "      <td>1629269.170</td>\n",
       "      <td>920333.880</td>\n",
       "      <td>1072497.620</td>\n",
       "      <td>774239.850</td>\n",
       "      <td>901461.980</td>\n",
       "      <td>000001.SZ</td>\n",
       "    </tr>\n",
       "    <tr>\n",
       "      <th>adj_factor</th>\n",
       "      <td>85.994</td>\n",
       "      <td>85.994</td>\n",
       "      <td>85.994</td>\n",
       "      <td>85.994</td>\n",
       "      <td>85.994</td>\n",
       "      <td>85.994</td>\n",
       "      <td>85.994</td>\n",
       "      <td>85.994</td>\n",
       "      <td>85.994</td>\n",
       "      <td>85.994</td>\n",
       "      <td>...</td>\n",
       "      <td>108.031</td>\n",
       "      <td>108.031</td>\n",
       "      <td>108.031</td>\n",
       "      <td>108.031</td>\n",
       "      <td>108.031</td>\n",
       "      <td>108.031</td>\n",
       "      <td>108.031</td>\n",
       "      <td>108.031</td>\n",
       "      <td>108.031</td>\n",
       "      <td>000001.SZ</td>\n",
       "    </tr>\n",
       "  </tbody>\n",
       "</table>\n",
       "<p>6 rows × 701 columns</p>\n",
       "</div>"
      ],
      "text/plain": [
       "trade_date  2016-01-04 00:00:00  2016-01-05 00:00:00  2016-01-06 00:00:00  \\\n",
       "open                      9.550                8.970                9.090   \n",
       "high                      9.580                9.210                9.200   \n",
       "low                       8.940                8.880                9.070   \n",
       "close                     9.020                9.070                9.180   \n",
       "vol                  563497.870           663269.950           515706.440   \n",
       "adj_factor               85.994               85.994               85.994   \n",
       "\n",
       "trade_date  2016-01-07 00:00:00  2016-01-08 00:00:00  2016-01-11 00:00:00  \\\n",
       "open                      9.080                8.920                8.760   \n",
       "high                      9.080                8.990                8.820   \n",
       "low                       8.680                8.680                8.500   \n",
       "close                     8.710                8.850                8.570   \n",
       "vol                  174761.100           747527.580           732013.990   \n",
       "adj_factor               85.994               85.994               85.994   \n",
       "\n",
       "trade_date  2016-01-12 00:00:00  2016-01-13 00:00:00  2016-01-14 00:00:00  \\\n",
       "open                      8.620                8.670                8.430   \n",
       "high                      8.680                8.710                8.600   \n",
       "low                       8.470                8.520                8.340   \n",
       "close                     8.600                8.530                8.570   \n",
       "vol                  561642.300           391709.480           666314.540   \n",
       "adj_factor               85.994               85.994               85.994   \n",
       "\n",
       "trade_date  2016-01-15 00:00:00    ...      2018-11-05 00:00:00  \\\n",
       "open                      8.490    ...                   10.950   \n",
       "high                      8.600    ...                   11.040   \n",
       "low                       8.290    ...                   10.820   \n",
       "close                     8.330    ...                   10.920   \n",
       "vol                  448202.140    ...              1291924.170   \n",
       "adj_factor               85.994    ...                  108.031   \n",
       "\n",
       "trade_date  2018-11-06 00:00:00  2018-11-07 00:00:00  2018-11-08 00:00:00  \\\n",
       "open                     10.870               10.830               10.880   \n",
       "high                     10.930               10.950               10.970   \n",
       "low                      10.730               10.750               10.820   \n",
       "close                    10.840               10.810               10.890   \n",
       "vol                  735725.740           785597.410           793976.000   \n",
       "adj_factor              108.031              108.031              108.031   \n",
       "\n",
       "trade_date  2018-11-09 00:00:00  2018-11-12 00:00:00  2018-11-13 00:00:00  \\\n",
       "open                     10.710               10.460               10.410   \n",
       "high                     10.730               10.580               10.650   \n",
       "low                      10.400               10.380               10.380   \n",
       "close                    10.550               10.560               10.540   \n",
       "vol                 1629269.170           920333.880          1072497.620   \n",
       "adj_factor              108.031              108.031              108.031   \n",
       "\n",
       "trade_date  2018-11-14 00:00:00  2018-11-15 00:00:00       code  \n",
       "open                     10.530               10.440  000001.SZ  \n",
       "high                     10.550               10.640  000001.SZ  \n",
       "low                      10.420               10.420  000001.SZ  \n",
       "close                    10.440               10.620  000001.SZ  \n",
       "vol                  774239.850           901461.980  000001.SZ  \n",
       "adj_factor              108.031              108.031  000001.SZ  \n",
       "\n",
       "[6 rows x 701 columns]"
      ]
     },
     "execution_count": 49,
     "metadata": {},
     "output_type": "execute_result"
    }
   ],
   "source": [
    "var = '000001.SZ'\n",
    "data_sub1 = data[data['ts_code']==var].drop('ts_code',1).T\n",
    "data_sub1['code'] = var\n",
    "data_sub1"
   ]
  },
  {
   "cell_type": "code",
   "execution_count": 34,
   "metadata": {},
   "outputs": [
    {
     "name": "stdout",
     "output_type": "stream",
     "text": [
      "提取数据: 数据维度:2; 标的数：2; 起始时间：2016-01-04 00:00:00; 结束时间：2018-11-15 00:00:00\n"
     ]
    },
    {
     "name": "stderr",
     "output_type": "stream",
     "text": [
      "D:\\Anaconda\\lib\\site-packages\\ipykernel_launcher.py:15: FutureWarning: Sorting because non-concatenation axis is not aligned. A future version\n",
      "of pandas will change to not sort by default.\n",
      "\n",
      "To accept the future behavior, pass 'sort=True'.\n",
      "\n",
      "To retain the current behavior and silence the warning, pass sort=False\n",
      "\n",
      "  from ipykernel import kernelapp as app\n"
     ]
    }
   ],
   "source": [
    "data = get_OHLCV_by_kdb(config_data_query, code = ['000001.SZ','000002.SZ'], frequency = 'D', asset = 'E', adj = '', start_date = '20160101', end_date = '', trade_date = '',items=['ts_code','open','high','low','close','vol'],is_panel=0)\n",
    "# locals()['data_sub'+str(var)] = data[data['ts_code']==var].drop('ts_code',1).T for var in np.unique(data['ts_code'])\n",
    "\n",
    "\n",
    "var = '000001.SZ'\n",
    "data_sub1 = data[data['ts_code']==var].drop('ts_code',1).T\n",
    "data_sub1['code'] = var\n",
    "data_sub1\n",
    "\n",
    "var = '000002.SZ'\n",
    "data_sub2 = data[data['ts_code']==var].drop('ts_code',1).T\n",
    "data_sub2['code'] = var\n",
    "data_sub2\n",
    "\n",
    "data = pd.concat([data_sub1,data_sub2],axis=0,ignore_index=False)\n",
    "\n",
    "data['index'] = data.index\n",
    "data=data.set_index('code')\n",
    "\n",
    "def sort_df2(data):\n",
    "    data = data.sort_values(by='code',ascending=True)\t#df2：品种列 ascending：排序方式\n",
    "    return data\n",
    "data = data.groupby('index').apply(sort_df2)\n",
    "del data['index']\n",
    "data = data.T\n",
    "\n",
    "data = dict([(var, data[var]) for var in np.unique(list(map(lambda x:x[0],data.columns.tolist())))])\n",
    "# data = pd.Panel(data)"
   ]
  },
  {
   "cell_type": "code",
   "execution_count": 76,
   "metadata": {},
   "outputs": [],
   "source": [
    "data = get_OHLCV_by_kdb(config_data_query, code = ['000001.SZ','000002.SZ'], frequency = 'D', asset = 'E', adj = '', start_date = '20181111', end_date = '', trade_date = '',items=['ts_code','open','high','low','close','vol','adj_factor'],is_panel=0)\n",
    "\n",
    "var = '000001.SZ'\n",
    "data_sub1 = data[data['ts_code']==var].drop('ts_code',1).T\n",
    "data_sub1['code'] = var\n",
    "data_sub1\n",
    "\n",
    "var = '000002.SZ'\n",
    "data_sub2 = data[data['ts_code']==var].drop('ts_code',1).T\n",
    "data_sub2['code'] = var\n",
    "data_sub2\n",
    "\n",
    "data = pd.concat([data_sub1,data_sub2],axis=0,ignore_index=False)\n",
    "\n",
    "data['index'] = data.index\n",
    "data=data.set_index('code')\n",
    "\n",
    "def sort_df2(data):\n",
    "    data = data.sort_values(by='code',ascending=True)\t#df2：品种列 ascending：排序方式\n",
    "    return data\n",
    "data = data.groupby('index').apply(sort_df2)\n",
    "del data['index']\n",
    "data = data.T\n",
    "\n",
    "data = dict([(var, data[var]) for var in np.unique(list(map(lambda x:x[0],data.columns.tolist())))])\n",
    "data = pd.Panel(data)"
   ]
  },
  {
   "cell_type": "code",
   "execution_count": 77,
   "metadata": {},
   "outputs": [],
   "source": []
  },
  {
   "cell_type": "code",
   "execution_count": 78,
   "metadata": {},
   "outputs": [],
   "source": []
  },
  {
   "cell_type": "code",
   "execution_count": 79,
   "metadata": {},
   "outputs": [
    {
     "data": {
      "text/html": [
       "<div>\n",
       "<style scoped>\n",
       "    .dataframe tbody tr th:only-of-type {\n",
       "        vertical-align: middle;\n",
       "    }\n",
       "\n",
       "    .dataframe tbody tr th {\n",
       "        vertical-align: top;\n",
       "    }\n",
       "\n",
       "    .dataframe thead tr th {\n",
       "        text-align: left;\n",
       "    }\n",
       "\n",
       "    .dataframe thead tr:last-of-type th {\n",
       "        text-align: right;\n",
       "    }\n",
       "</style>\n",
       "<table border=\"1\" class=\"dataframe\">\n",
       "  <thead>\n",
       "    <tr>\n",
       "      <th>index</th>\n",
       "      <th colspan=\"2\" halign=\"left\">adj_factor</th>\n",
       "      <th colspan=\"2\" halign=\"left\">close</th>\n",
       "      <th colspan=\"2\" halign=\"left\">high</th>\n",
       "      <th colspan=\"2\" halign=\"left\">low</th>\n",
       "      <th colspan=\"2\" halign=\"left\">open</th>\n",
       "      <th colspan=\"2\" halign=\"left\">vol</th>\n",
       "    </tr>\n",
       "    <tr>\n",
       "      <th>code</th>\n",
       "      <th>000001.SZ</th>\n",
       "      <th>000002.SZ</th>\n",
       "      <th>000001.SZ</th>\n",
       "      <th>000002.SZ</th>\n",
       "      <th>000001.SZ</th>\n",
       "      <th>000002.SZ</th>\n",
       "      <th>000001.SZ</th>\n",
       "      <th>000002.SZ</th>\n",
       "      <th>000001.SZ</th>\n",
       "      <th>000002.SZ</th>\n",
       "      <th>000001.SZ</th>\n",
       "      <th>000002.SZ</th>\n",
       "    </tr>\n",
       "    <tr>\n",
       "      <th>trade_date</th>\n",
       "      <th></th>\n",
       "      <th></th>\n",
       "      <th></th>\n",
       "      <th></th>\n",
       "      <th></th>\n",
       "      <th></th>\n",
       "      <th></th>\n",
       "      <th></th>\n",
       "      <th></th>\n",
       "      <th></th>\n",
       "      <th></th>\n",
       "      <th></th>\n",
       "    </tr>\n",
       "  </thead>\n",
       "  <tbody>\n",
       "    <tr>\n",
       "      <th>2018-11-12 00:00:00</th>\n",
       "      <td>108.031</td>\n",
       "      <td>142.668</td>\n",
       "      <td>10.56</td>\n",
       "      <td>23.88</td>\n",
       "      <td>10.58</td>\n",
       "      <td>23.96</td>\n",
       "      <td>10.38</td>\n",
       "      <td>23.40</td>\n",
       "      <td>10.46</td>\n",
       "      <td>23.41</td>\n",
       "      <td>920333.88</td>\n",
       "      <td>386742.23</td>\n",
       "    </tr>\n",
       "    <tr>\n",
       "      <th>2018-11-13 00:00:00</th>\n",
       "      <td>108.031</td>\n",
       "      <td>142.668</td>\n",
       "      <td>10.54</td>\n",
       "      <td>23.94</td>\n",
       "      <td>10.65</td>\n",
       "      <td>24.03</td>\n",
       "      <td>10.38</td>\n",
       "      <td>23.44</td>\n",
       "      <td>10.41</td>\n",
       "      <td>23.48</td>\n",
       "      <td>1072497.62</td>\n",
       "      <td>453424.04</td>\n",
       "    </tr>\n",
       "    <tr>\n",
       "      <th>2018-11-14 00:00:00</th>\n",
       "      <td>108.031</td>\n",
       "      <td>142.668</td>\n",
       "      <td>10.44</td>\n",
       "      <td>24.15</td>\n",
       "      <td>10.55</td>\n",
       "      <td>24.49</td>\n",
       "      <td>10.42</td>\n",
       "      <td>23.96</td>\n",
       "      <td>10.53</td>\n",
       "      <td>24.18</td>\n",
       "      <td>774239.85</td>\n",
       "      <td>618882.72</td>\n",
       "    </tr>\n",
       "    <tr>\n",
       "      <th>2018-11-15 00:00:00</th>\n",
       "      <td>108.031</td>\n",
       "      <td>142.668</td>\n",
       "      <td>10.62</td>\n",
       "      <td>24.38</td>\n",
       "      <td>10.64</td>\n",
       "      <td>24.40</td>\n",
       "      <td>10.42</td>\n",
       "      <td>23.96</td>\n",
       "      <td>10.44</td>\n",
       "      <td>24.05</td>\n",
       "      <td>901461.98</td>\n",
       "      <td>258623.58</td>\n",
       "    </tr>\n",
       "  </tbody>\n",
       "</table>\n",
       "</div>"
      ],
      "text/plain": [
       "index               adj_factor               close                high  \\\n",
       "code                 000001.SZ 000002.SZ 000001.SZ 000002.SZ 000001.SZ   \n",
       "trade_date                                                               \n",
       "2018-11-12 00:00:00    108.031   142.668     10.56     23.88     10.58   \n",
       "2018-11-13 00:00:00    108.031   142.668     10.54     23.94     10.65   \n",
       "2018-11-14 00:00:00    108.031   142.668     10.44     24.15     10.55   \n",
       "2018-11-15 00:00:00    108.031   142.668     10.62     24.38     10.64   \n",
       "\n",
       "index                               low                open            \\\n",
       "code                000002.SZ 000001.SZ 000002.SZ 000001.SZ 000002.SZ   \n",
       "trade_date                                                              \n",
       "2018-11-12 00:00:00     23.96     10.38     23.40     10.46     23.41   \n",
       "2018-11-13 00:00:00     24.03     10.38     23.44     10.41     23.48   \n",
       "2018-11-14 00:00:00     24.49     10.42     23.96     10.53     24.18   \n",
       "2018-11-15 00:00:00     24.40     10.42     23.96     10.44     24.05   \n",
       "\n",
       "index                       vol             \n",
       "code                  000001.SZ  000002.SZ  \n",
       "trade_date                                  \n",
       "2018-11-12 00:00:00   920333.88  386742.23  \n",
       "2018-11-13 00:00:00  1072497.62  453424.04  \n",
       "2018-11-14 00:00:00   774239.85  618882.72  \n",
       "2018-11-15 00:00:00   901461.98  258623.58  "
      ]
     },
     "execution_count": 79,
     "metadata": {},
     "output_type": "execute_result"
    }
   ],
   "source": [
    "data"
   ]
  },
  {
   "cell_type": "code",
   "execution_count": 82,
   "metadata": {},
   "outputs": [
    {
     "data": {
      "text/plain": [
       "['adj_factor',\n",
       " 'adj_factor',\n",
       " 'close',\n",
       " 'close',\n",
       " 'high',\n",
       " 'high',\n",
       " 'low',\n",
       " 'low',\n",
       " 'open',\n",
       " 'open',\n",
       " 'vol',\n",
       " 'vol']"
      ]
     },
     "execution_count": 82,
     "metadata": {},
     "output_type": "execute_result"
    }
   ],
   "source": [
    "list(map(lambda x:x[0],data.columns.tolist()))"
   ]
  },
  {
   "cell_type": "code",
   "execution_count": 83,
   "metadata": {
    "scrolled": true
   },
   "outputs": [],
   "source": []
  },
  {
   "cell_type": "code",
   "execution_count": 85,
   "metadata": {},
   "outputs": [
    {
     "name": "stderr",
     "output_type": "stream",
     "text": [
      "D:\\Anaconda\\lib\\site-packages\\IPython\\core\\interactiveshell.py:2963: FutureWarning: \n",
      "Panel is deprecated and will be removed in a future version.\n",
      "The recommended way to represent these types of 3-dimensional data are with a MultiIndex on a DataFrame, via the Panel.to_frame() method\n",
      "Alternatively, you can use the xarray package http://xarray.pydata.org/en/stable/.\n",
      "Pandas provides a `.to_xarray()` method to help automate this conversion.\n",
      "\n",
      "  exec(code_obj, self.user_global_ns, self.user_ns)\n"
     ]
    },
    {
     "data": {
      "text/html": [
       "<div>\n",
       "<style scoped>\n",
       "    .dataframe tbody tr th:only-of-type {\n",
       "        vertical-align: middle;\n",
       "    }\n",
       "\n",
       "    .dataframe tbody tr th {\n",
       "        vertical-align: top;\n",
       "    }\n",
       "\n",
       "    .dataframe thead th {\n",
       "        text-align: right;\n",
       "    }\n",
       "</style>\n",
       "<table border=\"1\" class=\"dataframe\">\n",
       "  <thead>\n",
       "    <tr style=\"text-align: right;\">\n",
       "      <th>code</th>\n",
       "      <th>000001.SZ</th>\n",
       "      <th>000002.SZ</th>\n",
       "    </tr>\n",
       "    <tr>\n",
       "      <th>trade_date</th>\n",
       "      <th></th>\n",
       "      <th></th>\n",
       "    </tr>\n",
       "  </thead>\n",
       "  <tbody>\n",
       "    <tr>\n",
       "      <th>2018-11-12 00:00:00</th>\n",
       "      <td>10.46</td>\n",
       "      <td>23.41</td>\n",
       "    </tr>\n",
       "    <tr>\n",
       "      <th>2018-11-13 00:00:00</th>\n",
       "      <td>10.41</td>\n",
       "      <td>23.48</td>\n",
       "    </tr>\n",
       "    <tr>\n",
       "      <th>2018-11-14 00:00:00</th>\n",
       "      <td>10.53</td>\n",
       "      <td>24.18</td>\n",
       "    </tr>\n",
       "    <tr>\n",
       "      <th>2018-11-15 00:00:00</th>\n",
       "      <td>10.44</td>\n",
       "      <td>24.05</td>\n",
       "    </tr>\n",
       "  </tbody>\n",
       "</table>\n",
       "</div>"
      ],
      "text/plain": [
       "code                 000001.SZ  000002.SZ\n",
       "trade_date                               \n",
       "2018-11-12 00:00:00      10.46      23.41\n",
       "2018-11-13 00:00:00      10.41      23.48\n",
       "2018-11-14 00:00:00      10.53      24.18\n",
       "2018-11-15 00:00:00      10.44      24.05"
      ]
     },
     "execution_count": 85,
     "metadata": {},
     "output_type": "execute_result"
    }
   ],
   "source": []
  },
  {
   "cell_type": "code",
   "execution_count": null,
   "metadata": {},
   "outputs": [],
   "source": []
  },
  {
   "cell_type": "code",
   "execution_count": 42,
   "metadata": {},
   "outputs": [
    {
     "data": {
      "text/html": [
       "<div>\n",
       "<style scoped>\n",
       "    .dataframe tbody tr th:only-of-type {\n",
       "        vertical-align: middle;\n",
       "    }\n",
       "\n",
       "    .dataframe tbody tr th {\n",
       "        vertical-align: top;\n",
       "    }\n",
       "\n",
       "    .dataframe thead th {\n",
       "        text-align: right;\n",
       "    }\n",
       "</style>\n",
       "<table border=\"1\" class=\"dataframe\">\n",
       "  <thead>\n",
       "    <tr style=\"text-align: right;\">\n",
       "      <th>trade_date</th>\n",
       "      <th>2018-11-13 00:00:00</th>\n",
       "      <th>2018-11-14 00:00:00</th>\n",
       "      <th>2018-11-15 00:00:00</th>\n",
       "      <th>code</th>\n",
       "    </tr>\n",
       "  </thead>\n",
       "  <tbody>\n",
       "    <tr>\n",
       "      <th>open</th>\n",
       "      <td>10.41</td>\n",
       "      <td>10.53</td>\n",
       "      <td>10.44</td>\n",
       "      <td>000001.SZ</td>\n",
       "    </tr>\n",
       "    <tr>\n",
       "      <th>high</th>\n",
       "      <td>10.65</td>\n",
       "      <td>10.55</td>\n",
       "      <td>10.64</td>\n",
       "      <td>000001.SZ</td>\n",
       "    </tr>\n",
       "    <tr>\n",
       "      <th>low</th>\n",
       "      <td>10.38</td>\n",
       "      <td>10.42</td>\n",
       "      <td>10.42</td>\n",
       "      <td>000001.SZ</td>\n",
       "    </tr>\n",
       "    <tr>\n",
       "      <th>close</th>\n",
       "      <td>10.54</td>\n",
       "      <td>10.44</td>\n",
       "      <td>10.62</td>\n",
       "      <td>000001.SZ</td>\n",
       "    </tr>\n",
       "    <tr>\n",
       "      <th>vol</th>\n",
       "      <td>1.0725e+06</td>\n",
       "      <td>774240</td>\n",
       "      <td>901462</td>\n",
       "      <td>000001.SZ</td>\n",
       "    </tr>\n",
       "    <tr>\n",
       "      <th>adj_factor</th>\n",
       "      <td>108.031</td>\n",
       "      <td>108.031</td>\n",
       "      <td>108.031</td>\n",
       "      <td>000001.SZ</td>\n",
       "    </tr>\n",
       "  </tbody>\n",
       "</table>\n",
       "</div>"
      ],
      "text/plain": [
       "trade_date 2018-11-13 00:00:00 2018-11-14 00:00:00 2018-11-15 00:00:00  \\\n",
       "open                     10.41               10.53               10.44   \n",
       "high                     10.65               10.55               10.64   \n",
       "low                      10.38               10.42               10.42   \n",
       "close                    10.54               10.44               10.62   \n",
       "vol                 1.0725e+06              774240              901462   \n",
       "adj_factor             108.031             108.031             108.031   \n",
       "\n",
       "trade_date       code  \n",
       "open        000001.SZ  \n",
       "high        000001.SZ  \n",
       "low         000001.SZ  \n",
       "close       000001.SZ  \n",
       "vol         000001.SZ  \n",
       "adj_factor  000001.SZ  "
      ]
     },
     "execution_count": 42,
     "metadata": {},
     "output_type": "execute_result"
    }
   ],
   "source": [
    "def sort_df2(data):\n",
    "    data = data.sort_values(by='trade_date',ascending=False)\t#df2：品种列 ascending：排序方式\n",
    "    return data\n",
    "\n",
    "data = data.groupby('ts_code').apply(sort_df2)  \n",
    "data"
   ]
  },
  {
   "cell_type": "code",
   "execution_count": 43,
   "metadata": {},
   "outputs": [
    {
     "name": "stderr",
     "output_type": "stream",
     "text": [
      "D:\\Anaconda\\lib\\site-packages\\ipykernel_launcher.py:1: FutureWarning: Sorting because non-concatenation axis is not aligned. A future version\n",
      "of pandas will change to not sort by default.\n",
      "\n",
      "To accept the future behavior, pass 'sort=True'.\n",
      "\n",
      "To retain the current behavior and silence the warning, pass sort=False\n",
      "\n",
      "  \"\"\"Entry point for launching an IPython kernel.\n"
     ]
    },
    {
     "data": {
      "text/html": [
       "<div>\n",
       "<style scoped>\n",
       "    .dataframe tbody tr th:only-of-type {\n",
       "        vertical-align: middle;\n",
       "    }\n",
       "\n",
       "    .dataframe tbody tr th {\n",
       "        vertical-align: top;\n",
       "    }\n",
       "\n",
       "    .dataframe thead th {\n",
       "        text-align: right;\n",
       "    }\n",
       "</style>\n",
       "<table border=\"1\" class=\"dataframe\">\n",
       "  <thead>\n",
       "    <tr style=\"text-align: right;\">\n",
       "      <th></th>\n",
       "      <th>2018-11-13 00:00:00</th>\n",
       "      <th>2018-11-14 00:00:00</th>\n",
       "      <th>2018-11-15 00:00:00</th>\n",
       "      <th>code</th>\n",
       "      <th>2018-11-12 00:00:00</th>\n",
       "    </tr>\n",
       "  </thead>\n",
       "  <tbody>\n",
       "    <tr>\n",
       "      <th>open</th>\n",
       "      <td>10.41</td>\n",
       "      <td>10.53</td>\n",
       "      <td>10.44</td>\n",
       "      <td>000001.SZ</td>\n",
       "      <td>NaN</td>\n",
       "    </tr>\n",
       "    <tr>\n",
       "      <th>high</th>\n",
       "      <td>10.65</td>\n",
       "      <td>10.55</td>\n",
       "      <td>10.64</td>\n",
       "      <td>000001.SZ</td>\n",
       "      <td>NaN</td>\n",
       "    </tr>\n",
       "    <tr>\n",
       "      <th>low</th>\n",
       "      <td>10.38</td>\n",
       "      <td>10.42</td>\n",
       "      <td>10.42</td>\n",
       "      <td>000001.SZ</td>\n",
       "      <td>NaN</td>\n",
       "    </tr>\n",
       "    <tr>\n",
       "      <th>close</th>\n",
       "      <td>10.54</td>\n",
       "      <td>10.44</td>\n",
       "      <td>10.62</td>\n",
       "      <td>000001.SZ</td>\n",
       "      <td>NaN</td>\n",
       "    </tr>\n",
       "    <tr>\n",
       "      <th>vol</th>\n",
       "      <td>1.0725e+06</td>\n",
       "      <td>774240</td>\n",
       "      <td>901462</td>\n",
       "      <td>000001.SZ</td>\n",
       "      <td>NaN</td>\n",
       "    </tr>\n",
       "    <tr>\n",
       "      <th>adj_factor</th>\n",
       "      <td>108.031</td>\n",
       "      <td>108.031</td>\n",
       "      <td>108.031</td>\n",
       "      <td>000001.SZ</td>\n",
       "      <td>NaN</td>\n",
       "    </tr>\n",
       "    <tr>\n",
       "      <th>open</th>\n",
       "      <td>23.48</td>\n",
       "      <td>24.18</td>\n",
       "      <td>24.05</td>\n",
       "      <td>000002.SZ</td>\n",
       "      <td>23.410</td>\n",
       "    </tr>\n",
       "    <tr>\n",
       "      <th>high</th>\n",
       "      <td>24.03</td>\n",
       "      <td>24.49</td>\n",
       "      <td>24.4</td>\n",
       "      <td>000002.SZ</td>\n",
       "      <td>23.960</td>\n",
       "    </tr>\n",
       "    <tr>\n",
       "      <th>low</th>\n",
       "      <td>23.44</td>\n",
       "      <td>23.96</td>\n",
       "      <td>23.96</td>\n",
       "      <td>000002.SZ</td>\n",
       "      <td>23.400</td>\n",
       "    </tr>\n",
       "    <tr>\n",
       "      <th>close</th>\n",
       "      <td>23.94</td>\n",
       "      <td>24.15</td>\n",
       "      <td>24.38</td>\n",
       "      <td>000002.SZ</td>\n",
       "      <td>23.880</td>\n",
       "    </tr>\n",
       "    <tr>\n",
       "      <th>vol</th>\n",
       "      <td>453424</td>\n",
       "      <td>618883</td>\n",
       "      <td>258624</td>\n",
       "      <td>000002.SZ</td>\n",
       "      <td>386742.230</td>\n",
       "    </tr>\n",
       "    <tr>\n",
       "      <th>adj_factor</th>\n",
       "      <td>142.668</td>\n",
       "      <td>142.668</td>\n",
       "      <td>142.668</td>\n",
       "      <td>000002.SZ</td>\n",
       "      <td>142.668</td>\n",
       "    </tr>\n",
       "  </tbody>\n",
       "</table>\n",
       "</div>"
      ],
      "text/plain": [
       "           2018-11-13 00:00:00 2018-11-14 00:00:00 2018-11-15 00:00:00  \\\n",
       "open                     10.41               10.53               10.44   \n",
       "high                     10.65               10.55               10.64   \n",
       "low                      10.38               10.42               10.42   \n",
       "close                    10.54               10.44               10.62   \n",
       "vol                 1.0725e+06              774240              901462   \n",
       "adj_factor             108.031             108.031             108.031   \n",
       "open                     23.48               24.18               24.05   \n",
       "high                     24.03               24.49                24.4   \n",
       "low                      23.44               23.96               23.96   \n",
       "close                    23.94               24.15               24.38   \n",
       "vol                     453424              618883              258624   \n",
       "adj_factor             142.668             142.668             142.668   \n",
       "\n",
       "                 code  2018-11-12 00:00:00  \n",
       "open        000001.SZ                  NaN  \n",
       "high        000001.SZ                  NaN  \n",
       "low         000001.SZ                  NaN  \n",
       "close       000001.SZ                  NaN  \n",
       "vol         000001.SZ                  NaN  \n",
       "adj_factor  000001.SZ                  NaN  \n",
       "open        000002.SZ               23.410  \n",
       "high        000002.SZ               23.960  \n",
       "low         000002.SZ               23.400  \n",
       "close       000002.SZ               23.880  \n",
       "vol         000002.SZ           386742.230  \n",
       "adj_factor  000002.SZ              142.668  "
      ]
     },
     "execution_count": 43,
     "metadata": {},
     "output_type": "execute_result"
    }
   ],
   "source": []
  },
  {
   "cell_type": "code",
   "execution_count": 25,
   "metadata": {},
   "outputs": [
    {
     "data": {
      "text/html": [
       "<div>\n",
       "<style scoped>\n",
       "    .dataframe tbody tr th:only-of-type {\n",
       "        vertical-align: middle;\n",
       "    }\n",
       "\n",
       "    .dataframe tbody tr th {\n",
       "        vertical-align: top;\n",
       "    }\n",
       "\n",
       "    .dataframe thead th {\n",
       "        text-align: right;\n",
       "    }\n",
       "</style>\n",
       "<table border=\"1\" class=\"dataframe\">\n",
       "  <thead>\n",
       "    <tr style=\"text-align: right;\">\n",
       "      <th></th>\n",
       "      <th>ts_code</th>\n",
       "      <th>open</th>\n",
       "      <th>high</th>\n",
       "      <th>low</th>\n",
       "      <th>close</th>\n",
       "      <th>vol</th>\n",
       "      <th>adj_factor</th>\n",
       "    </tr>\n",
       "    <tr>\n",
       "      <th>trade_date</th>\n",
       "      <th></th>\n",
       "      <th></th>\n",
       "      <th></th>\n",
       "      <th></th>\n",
       "      <th></th>\n",
       "      <th></th>\n",
       "      <th></th>\n",
       "    </tr>\n",
       "  </thead>\n",
       "  <tbody>\n",
       "    <tr>\n",
       "      <th>2018-11-12</th>\n",
       "      <td>000001.SZ</td>\n",
       "      <td>10.46</td>\n",
       "      <td>10.58</td>\n",
       "      <td>10.38</td>\n",
       "      <td>10.56</td>\n",
       "      <td>920333.88</td>\n",
       "      <td>108.031</td>\n",
       "    </tr>\n",
       "    <tr>\n",
       "      <th>2018-11-12</th>\n",
       "      <td>000002.SZ</td>\n",
       "      <td>23.41</td>\n",
       "      <td>23.96</td>\n",
       "      <td>23.40</td>\n",
       "      <td>23.88</td>\n",
       "      <td>386742.23</td>\n",
       "      <td>142.668</td>\n",
       "    </tr>\n",
       "    <tr>\n",
       "      <th>2018-11-13</th>\n",
       "      <td>000001.SZ</td>\n",
       "      <td>10.41</td>\n",
       "      <td>10.65</td>\n",
       "      <td>10.38</td>\n",
       "      <td>10.54</td>\n",
       "      <td>1072497.62</td>\n",
       "      <td>108.031</td>\n",
       "    </tr>\n",
       "    <tr>\n",
       "      <th>2018-11-13</th>\n",
       "      <td>000002.SZ</td>\n",
       "      <td>23.48</td>\n",
       "      <td>24.03</td>\n",
       "      <td>23.44</td>\n",
       "      <td>23.94</td>\n",
       "      <td>453424.04</td>\n",
       "      <td>142.668</td>\n",
       "    </tr>\n",
       "    <tr>\n",
       "      <th>2018-11-14</th>\n",
       "      <td>000001.SZ</td>\n",
       "      <td>10.53</td>\n",
       "      <td>10.55</td>\n",
       "      <td>10.42</td>\n",
       "      <td>10.44</td>\n",
       "      <td>774239.85</td>\n",
       "      <td>108.031</td>\n",
       "    </tr>\n",
       "    <tr>\n",
       "      <th>2018-11-14</th>\n",
       "      <td>000002.SZ</td>\n",
       "      <td>24.18</td>\n",
       "      <td>24.49</td>\n",
       "      <td>23.96</td>\n",
       "      <td>24.15</td>\n",
       "      <td>618882.72</td>\n",
       "      <td>142.668</td>\n",
       "    </tr>\n",
       "    <tr>\n",
       "      <th>2018-11-15</th>\n",
       "      <td>000001.SZ</td>\n",
       "      <td>10.44</td>\n",
       "      <td>10.64</td>\n",
       "      <td>10.42</td>\n",
       "      <td>10.62</td>\n",
       "      <td>901461.98</td>\n",
       "      <td>108.031</td>\n",
       "    </tr>\n",
       "    <tr>\n",
       "      <th>2018-11-15</th>\n",
       "      <td>000002.SZ</td>\n",
       "      <td>24.05</td>\n",
       "      <td>24.40</td>\n",
       "      <td>23.96</td>\n",
       "      <td>24.38</td>\n",
       "      <td>258623.58</td>\n",
       "      <td>142.668</td>\n",
       "    </tr>\n",
       "  </tbody>\n",
       "</table>\n",
       "</div>"
      ],
      "text/plain": [
       "              ts_code   open   high    low  close         vol  adj_factor\n",
       "trade_date                                                               \n",
       "2018-11-12  000001.SZ  10.46  10.58  10.38  10.56   920333.88     108.031\n",
       "2018-11-12  000002.SZ  23.41  23.96  23.40  23.88   386742.23     142.668\n",
       "2018-11-13  000001.SZ  10.41  10.65  10.38  10.54  1072497.62     108.031\n",
       "2018-11-13  000002.SZ  23.48  24.03  23.44  23.94   453424.04     142.668\n",
       "2018-11-14  000001.SZ  10.53  10.55  10.42  10.44   774239.85     108.031\n",
       "2018-11-14  000002.SZ  24.18  24.49  23.96  24.15   618882.72     142.668\n",
       "2018-11-15  000001.SZ  10.44  10.64  10.42  10.62   901461.98     108.031\n",
       "2018-11-15  000002.SZ  24.05  24.40  23.96  24.38   258623.58     142.668"
      ]
     },
     "execution_count": 25,
     "metadata": {},
     "output_type": "execute_result"
    }
   ],
   "source": [
    "data"
   ]
  },
  {
   "cell_type": "code",
   "execution_count": null,
   "metadata": {},
   "outputs": [],
   "source": []
  },
  {
   "cell_type": "code",
   "execution_count": null,
   "metadata": {},
   "outputs": [],
   "source": [
    "def get_open(x):\n",
    "    OPEN[x] = data[data['ts_code']==x]\n",
    "    return OPEN"
   ]
  },
  {
   "cell_type": "code",
   "execution_count": null,
   "metadata": {
    "scrolled": true
   },
   "outputs": [],
   "source": [
    "data"
   ]
  },
  {
   "cell_type": "code",
   "execution_count": null,
   "metadata": {
    "scrolled": true
   },
   "outputs": [],
   "source": [
    "data"
   ]
  },
  {
   "cell_type": "code",
   "execution_count": null,
   "metadata": {
    "scrolled": true
   },
   "outputs": [],
   "source": [
    "data[['ts_code','open']]"
   ]
  },
  {
   "cell_type": "code",
   "execution_count": null,
   "metadata": {
    "scrolled": true
   },
   "outputs": [],
   "source": [
    "var='000001.SZ'\n",
    "(var, data[data.ts_code==var].drop('ts_code',1))"
   ]
  },
  {
   "cell_type": "code",
   "execution_count": null,
   "metadata": {},
   "outputs": [],
   "source": [
    "var='000001.SZ'\n"
   ]
  },
  {
   "cell_type": "code",
   "execution_count": null,
   "metadata": {
    "scrolled": true
   },
   "outputs": [],
   "source": [
    "data = data.T"
   ]
  },
  {
   "cell_type": "code",
   "execution_count": 43,
   "metadata": {},
   "outputs": [
    {
     "name": "stdout",
     "output_type": "stream",
     "text": [
      "提取数据: 数据维度:2; 标的数：2; 起始时间：2018-11-12 00:00:00; 结束时间：2018-11-15 00:00:00\n"
     ]
    }
   ],
   "source": [
    "data = get_OHLCV_by_kdb(config_data_query, code = ['000001.SZ','000002.SZ'], frequency = 'D', asset = 'E', adj = '', start_date = '20181111', end_date = '', trade_date = '',items=['ts_code','open','high','low','close','vol','adj_factor'],is_panel=0)\n"
   ]
  },
  {
   "cell_type": "code",
   "execution_count": null,
   "metadata": {},
   "outputs": [],
   "source": [
    "dict([data for var in np.unique(data[data.index=='ts_code'].values)])"
   ]
  },
  {
   "cell_type": "code",
   "execution_count": 44,
   "metadata": {},
   "outputs": [],
   "source": [
    "a = dict([(var, data[['ts_code',var]].drop('ts_code',1)) for var in np.unique(data.columns.tolist())])"
   ]
  },
  {
   "cell_type": "code",
   "execution_count": 46,
   "metadata": {
    "scrolled": true
   },
   "outputs": [
    {
     "data": {
      "text/html": [
       "<div>\n",
       "<style scoped>\n",
       "    .dataframe tbody tr th:only-of-type {\n",
       "        vertical-align: middle;\n",
       "    }\n",
       "\n",
       "    .dataframe tbody tr th {\n",
       "        vertical-align: top;\n",
       "    }\n",
       "\n",
       "    .dataframe thead th {\n",
       "        text-align: right;\n",
       "    }\n",
       "</style>\n",
       "<table border=\"1\" class=\"dataframe\">\n",
       "  <thead>\n",
       "    <tr style=\"text-align: right;\">\n",
       "      <th></th>\n",
       "      <th>adj_factor</th>\n",
       "    </tr>\n",
       "    <tr>\n",
       "      <th>trade_date</th>\n",
       "      <th></th>\n",
       "    </tr>\n",
       "  </thead>\n",
       "  <tbody>\n",
       "    <tr>\n",
       "      <th>2018-11-12</th>\n",
       "      <td>108.031</td>\n",
       "    </tr>\n",
       "    <tr>\n",
       "      <th>2018-11-12</th>\n",
       "      <td>142.668</td>\n",
       "    </tr>\n",
       "    <tr>\n",
       "      <th>2018-11-13</th>\n",
       "      <td>108.031</td>\n",
       "    </tr>\n",
       "    <tr>\n",
       "      <th>2018-11-13</th>\n",
       "      <td>142.668</td>\n",
       "    </tr>\n",
       "    <tr>\n",
       "      <th>2018-11-14</th>\n",
       "      <td>108.031</td>\n",
       "    </tr>\n",
       "    <tr>\n",
       "      <th>2018-11-14</th>\n",
       "      <td>142.668</td>\n",
       "    </tr>\n",
       "    <tr>\n",
       "      <th>2018-11-15</th>\n",
       "      <td>108.031</td>\n",
       "    </tr>\n",
       "    <tr>\n",
       "      <th>2018-11-15</th>\n",
       "      <td>142.668</td>\n",
       "    </tr>\n",
       "  </tbody>\n",
       "</table>\n",
       "</div>"
      ],
      "text/plain": [
       "            adj_factor\n",
       "trade_date            \n",
       "2018-11-12     108.031\n",
       "2018-11-12     142.668\n",
       "2018-11-13     108.031\n",
       "2018-11-13     142.668\n",
       "2018-11-14     108.031\n",
       "2018-11-14     142.668\n",
       "2018-11-15     108.031\n",
       "2018-11-15     142.668"
      ]
     },
     "execution_count": 46,
     "metadata": {},
     "output_type": "execute_result"
    }
   ],
   "source": [
    "a['adj_factor']"
   ]
  },
  {
   "cell_type": "code",
   "execution_count": null,
   "metadata": {
    "scrolled": true
   },
   "outputs": [],
   "source": [
    "pd.Panel(a)"
   ]
  },
  {
   "cell_type": "code",
   "execution_count": null,
   "metadata": {},
   "outputs": [],
   "source": []
  },
  {
   "cell_type": "code",
   "execution_count": null,
   "metadata": {},
   "outputs": [],
   "source": []
  },
  {
   "cell_type": "code",
   "execution_count": null,
   "metadata": {},
   "outputs": [],
   "source": []
  },
  {
   "cell_type": "code",
   "execution_count": null,
   "metadata": {},
   "outputs": [],
   "source": [
    "a = pd.Panel(dict([(var, data[data.ts_code==var].drop('ts_code', 1)) for var in np.unique(data.ts_code)]))"
   ]
  },
  {
   "cell_type": "code",
   "execution_count": 39,
   "metadata": {},
   "outputs": [
    {
     "name": "stderr",
     "output_type": "stream",
     "text": [
      "D:\\Anaconda\\lib\\site-packages\\IPython\\core\\interactiveshell.py:2963: FutureWarning: \n",
      "Panel is deprecated and will be removed in a future version.\n",
      "The recommended way to represent these types of 3-dimensional data are with a MultiIndex on a DataFrame, via the Panel.to_frame() method\n",
      "Alternatively, you can use the xarray package http://xarray.pydata.org/en/stable/.\n",
      "Pandas provides a `.to_xarray()` method to help automate this conversion.\n",
      "\n",
      "  exec(code_obj, self.user_global_ns, self.user_ns)\n"
     ]
    }
   ],
   "source": [
    "a = pd.Panel(dict([(var, data[data.ts_code==var].drop('ts_code', 1)) for var in np.unique(data.columns.tolist())]))"
   ]
  },
  {
   "cell_type": "code",
   "execution_count": null,
   "metadata": {
    "scrolled": true
   },
   "outputs": [],
   "source": [
    "open_price = a.loc['open',:,:].dropna(axis=1,how='any')"
   ]
  },
  {
   "cell_type": "code",
   "execution_count": null,
   "metadata": {},
   "outputs": [],
   "source": [
    "a.items"
   ]
  },
  {
   "cell_type": "code",
   "execution_count": 42,
   "metadata": {},
   "outputs": [
    {
     "data": {
      "text/html": [
       "<div>\n",
       "<style scoped>\n",
       "    .dataframe tbody tr th:only-of-type {\n",
       "        vertical-align: middle;\n",
       "    }\n",
       "\n",
       "    .dataframe tbody tr th {\n",
       "        vertical-align: top;\n",
       "    }\n",
       "\n",
       "    .dataframe thead th {\n",
       "        text-align: right;\n",
       "    }\n",
       "</style>\n",
       "<table border=\"1\" class=\"dataframe\">\n",
       "  <thead>\n",
       "    <tr style=\"text-align: right;\">\n",
       "      <th></th>\n",
       "      <th>open</th>\n",
       "      <th>high</th>\n",
       "      <th>low</th>\n",
       "      <th>close</th>\n",
       "      <th>vol</th>\n",
       "      <th>adj_factor</th>\n",
       "    </tr>\n",
       "    <tr>\n",
       "      <th>trade_date</th>\n",
       "      <th></th>\n",
       "      <th></th>\n",
       "      <th></th>\n",
       "      <th></th>\n",
       "      <th></th>\n",
       "      <th></th>\n",
       "    </tr>\n",
       "  </thead>\n",
       "  <tbody>\n",
       "  </tbody>\n",
       "</table>\n",
       "</div>"
      ],
      "text/plain": [
       "Empty DataFrame\n",
       "Columns: [open, high, low, close, vol, adj_factor]\n",
       "Index: []"
      ]
     },
     "execution_count": 42,
     "metadata": {},
     "output_type": "execute_result"
    }
   ],
   "source": [
    "a['ts_code']"
   ]
  },
  {
   "cell_type": "code",
   "execution_count": null,
   "metadata": {},
   "outputs": [],
   "source": []
  },
  {
   "cell_type": "code",
   "execution_count": null,
   "metadata": {},
   "outputs": [],
   "source": []
  },
  {
   "cell_type": "code",
   "execution_count": null,
   "metadata": {},
   "outputs": [],
   "source": []
  },
  {
   "cell_type": "code",
   "execution_count": null,
   "metadata": {},
   "outputs": [],
   "source": []
  },
  {
   "cell_type": "code",
   "execution_count": null,
   "metadata": {},
   "outputs": [],
   "source": [
    "import xarray as xr"
   ]
  },
  {
   "cell_type": "code",
   "execution_count": null,
   "metadata": {},
   "outputs": [],
   "source": [
    "ds = xr.Dataset()\n",
    "ds['year'] = np.arange(100)\n",
    "ds['simulation'] = np.arange(1000)"
   ]
  },
  {
   "cell_type": "code",
   "execution_count": null,
   "metadata": {},
   "outputs": [],
   "source": [
    "In [1]: import pandas as pd \n",
    "\n",
    "In [2]: import numpy as np \n",
    "\n",
    "In [3]: import pandas.util.testing as tm; tm.N = 3 \n",
    "\n",
    "In [4]: def unpivot(frame): \n",
    "    ...:   N, K = frame.shape \n",
    "    ...:   data = {'value' : frame.values.ravel('F'), \n",
    "    ...:     'variable' : np.asarray(frame.columns).repeat(N), \n",
    "    ...:     'date' : np.tile(np.asarray(frame.index), K)} \n",
    "    ...:   return pd.DataFrame(data, columns=['date', 'variable', 'value']) \n",
    "    ...: \n",
    "\n",
    "In [5]: df = unpivot(tm.makeTimeDataFrame()) \n",
    "In [7]: df['value2'] = df['value'] * 2 \n",
    "In [8]: df.pivot('date', 'variable') "
   ]
  },
  {
   "cell_type": "code",
   "execution_count": null,
   "metadata": {
    "scrolled": true
   },
   "outputs": [],
   "source": [
    "df.drop('variable')"
   ]
  },
  {
   "cell_type": "code",
   "execution_count": null,
   "metadata": {},
   "outputs": [],
   "source": [
    "In [10]: xr.DataArray(dict([(var, df[df.variable==var].drop('variable', 1)) for var in np.unique(df.variable)])) "
   ]
  },
  {
   "cell_type": "code",
   "execution_count": null,
   "metadata": {},
   "outputs": [],
   "source": [
    "pd.Panel(dict([(var, df[df.variable==var].drop('variable', 1)) for var in np.unique(df.variable)]))"
   ]
  },
  {
   "cell_type": "code",
   "execution_count": null,
   "metadata": {},
   "outputs": [],
   "source": [
    "pd.Panel(data)"
   ]
  },
  {
   "cell_type": "code",
   "execution_count": null,
   "metadata": {
    "scrolled": true
   },
   "outputs": [],
   "source": [
    "data.T"
   ]
  },
  {
   "cell_type": "code",
   "execution_count": null,
   "metadata": {},
   "outputs": [],
   "source": [
    "map(get_open,data_code)"
   ]
  },
  {
   "cell_type": "code",
   "execution_count": null,
   "metadata": {
    "scrolled": true
   },
   "outputs": [],
   "source": [
    "OPEN = pd.DataFrame()\n",
    "OPEN"
   ]
  },
  {
   "cell_type": "code",
   "execution_count": null,
   "metadata": {},
   "outputs": [],
   "source": [
    "OPEN"
   ]
  },
  {
   "cell_type": "code",
   "execution_count": null,
   "metadata": {
    "scrolled": true
   },
   "outputs": [],
   "source": [
    "data"
   ]
  },
  {
   "cell_type": "code",
   "execution_count": null,
   "metadata": {},
   "outputs": [],
   "source": [
    "data.to_frame()"
   ]
  },
  {
   "cell_type": "code",
   "execution_count": null,
   "metadata": {},
   "outputs": [],
   "source": [
    "wp = pd.Panel(data, items=['ts_code', 'trade_date'], major_axis=data['ts_code'], minor_axis=data.index)\n"
   ]
  },
  {
   "cell_type": "code",
   "execution_count": null,
   "metadata": {
    "scrolled": true
   },
   "outputs": [],
   "source": [
    "def sort_df2(data):\n",
    "    data = data.sort_values(by='trade_date',ascending=False)\t#df2：品种列 ascending：排序方式\n",
    "    return data\n",
    "\n",
    "data = data.groupby('ts_code').apply(sort_df2)  \n",
    "data"
   ]
  },
  {
   "cell_type": "code",
   "execution_count": null,
   "metadata": {},
   "outputs": [],
   "source": [
    "OPEN= data[['open']]"
   ]
  },
  {
   "cell_type": "code",
   "execution_count": null,
   "metadata": {},
   "outputs": [],
   "source": [
    "OPEN.T\n",
    "\n",
    "\n",
    "\n"
   ]
  },
  {
   "cell_type": "code",
   "execution_count": null,
   "metadata": {},
   "outputs": [],
   "source": [
    "data['open'][data['open'].index[0]=='000001.SZ']"
   ]
  },
  {
   "cell_type": "code",
   "execution_count": null,
   "metadata": {},
   "outputs": [],
   "source": [
    "del data['ts_code']"
   ]
  },
  {
   "cell_type": "code",
   "execution_count": null,
   "metadata": {},
   "outputs": [],
   "source": [
    "data[data['ts_code']=='000001.SZ']"
   ]
  },
  {
   "cell_type": "code",
   "execution_count": null,
   "metadata": {},
   "outputs": [],
   "source": [
    "data.iloc['open';:;:]"
   ]
  },
  {
   "cell_type": "code",
   "execution_count": null,
   "metadata": {},
   "outputs": [],
   "source": [
    "data = np.random.rand(2,4,5)\n",
    "p = pd.Panel(data)\n"
   ]
  },
  {
   "cell_type": "code",
   "execution_count": null,
   "metadata": {
    "scrolled": true
   },
   "outputs": [],
   "source": [
    "data"
   ]
  },
  {
   "cell_type": "code",
   "execution_count": null,
   "metadata": {
    "scrolled": true
   },
   "outputs": [],
   "source": [
    "pd.DataFrame(data)"
   ]
  },
  {
   "cell_type": "code",
   "execution_count": null,
   "metadata": {
    "scrolled": true
   },
   "outputs": [],
   "source": [
    "def sort_df2(data):\n",
    "    data = data.sort_values(by='trade_date',ascending=False)\t#df2：品种列 ascending：排序方式\n",
    "    return data\n",
    "\n",
    "data = data.groupby('ts_code').apply(sort_df2)  "
   ]
  },
  {
   "cell_type": "code",
   "execution_count": null,
   "metadata": {},
   "outputs": [],
   "source": [
    "data = data.groupby('ts_code').apply(sort_df2)  "
   ]
  },
  {
   "cell_type": "code",
   "execution_count": null,
   "metadata": {
    "scrolled": true
   },
   "outputs": [],
   "source": [
    "pd.Panel(np.array(data))"
   ]
  },
  {
   "cell_type": "code",
   "execution_count": null,
   "metadata": {
    "scrolled": true
   },
   "outputs": [],
   "source": [
    "data = get_OHLCV_by_kdb(config_data_query, code = ['000001.SZ','000002.SZ'], frequency = 'D', asset = 'E', adj = '', start_date = '', end_date = '', trade_date = '',item=['ts_code','open','high','low','close','volume','adj_factor'],is_panel=0)"
   ]
  },
  {
   "cell_type": "code",
   "execution_count": null,
   "metadata": {},
   "outputs": [],
   "source": [
    "def sort_df2(data):\n",
    "    data = data.sort_values(by='trade_date',ascending=False)\t#df2：品种列 ascending：排序方式\n",
    "    return data\n",
    "\n",
    "data = data.groupby('ts_code').apply(sort_df2)  "
   ]
  },
  {
   "cell_type": "code",
   "execution_count": null,
   "metadata": {
    "scrolled": true
   },
   "outputs": [],
   "source": [
    "data"
   ]
  },
  {
   "cell_type": "code",
   "execution_count": null,
   "metadata": {
    "scrolled": true
   },
   "outputs": [],
   "source": [
    "data['trade_date'] +=946684800000000000\n",
    "data['trade_date'] = pd.to_datetime(data['trade_date'])\n",
    "data"
   ]
  },
  {
   "cell_type": "code",
   "execution_count": null,
   "metadata": {},
   "outputs": [],
   "source": [
    "code = ['000001.SZ','000002.SZ']\n",
    "code = ''.join(list(map(lambda x:'`'+x,code)))\n",
    "code"
   ]
  },
  {
   "cell_type": "code",
   "execution_count": null,
   "metadata": {
    "scrolled": true
   },
   "outputs": [],
   "source": [
    "code[0]+code[1]"
   ]
  },
  {
   "cell_type": "code",
   "execution_count": null,
   "metadata": {},
   "outputs": [],
   "source": [
    "query='data:raze{select from (get`:Local/OHLCV_D_E) where ts_code in `$x} each '+code\n",
    "query"
   ]
  },
  {
   "cell_type": "code",
   "execution_count": null,
   "metadata": {},
   "outputs": [],
   "source": [
    "''.join(code)"
   ]
  }
 ],
 "metadata": {
  "kernelspec": {
   "display_name": "Python 3",
   "language": "python",
   "name": "python3"
  },
  "language_info": {
   "codemirror_mode": {
    "name": "ipython",
    "version": 3
   },
   "file_extension": ".py",
   "mimetype": "text/x-python",
   "name": "python",
   "nbconvert_exporter": "python",
   "pygments_lexer": "ipython3",
   "version": "3.6.5"
  }
 },
 "nbformat": 4,
 "nbformat_minor": 2
}
